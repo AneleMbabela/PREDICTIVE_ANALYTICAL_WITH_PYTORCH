{
 "cells": [
  {
   "cell_type": "markdown",
   "metadata": {},
   "source": [
    "# RecommendationSystems"
   ]
  },
  {
   "cell_type": "code",
   "execution_count": 1,
   "metadata": {},
   "outputs": [],
   "source": [
    "import torch\n",
    "import torch.nn.functional as F\n",
    "\n",
    "from torch import nn\n",
    "from torch.utils.data import Dataset\n",
    "from torch.utils.data import DataLoader\n",
    "\n",
    "import heapq\n",
    "import math\n",
    "\n",
    "import scipy.sparse as sp\n",
    "import numpy as np\n",
    "import pandas as pd\n",
    "\n",
    "import ml_metrics as metrics"
   ]
  },
  {
   "cell_type": "code",
   "execution_count": 2,
   "metadata": {},
   "outputs": [
    {
     "data": {
      "text/html": [
       "<div>\n",
       "<style scoped>\n",
       "    .dataframe tbody tr th:only-of-type {\n",
       "        vertical-align: middle;\n",
       "    }\n",
       "\n",
       "    .dataframe tbody tr th {\n",
       "        vertical-align: top;\n",
       "    }\n",
       "\n",
       "    .dataframe thead th {\n",
       "        text-align: right;\n",
       "    }\n",
       "</style>\n",
       "<table border=\"1\" class=\"dataframe\">\n",
       "  <thead>\n",
       "    <tr style=\"text-align: right;\">\n",
       "      <th></th>\n",
       "      <th>userId</th>\n",
       "      <th>movieId</th>\n",
       "      <th>rating</th>\n",
       "      <th>timestamp</th>\n",
       "    </tr>\n",
       "  </thead>\n",
       "  <tbody>\n",
       "    <tr>\n",
       "      <th>0</th>\n",
       "      <td>1</td>\n",
       "      <td>1</td>\n",
       "      <td>4.0</td>\n",
       "      <td>964982703</td>\n",
       "    </tr>\n",
       "    <tr>\n",
       "      <th>1</th>\n",
       "      <td>1</td>\n",
       "      <td>3</td>\n",
       "      <td>4.0</td>\n",
       "      <td>964981247</td>\n",
       "    </tr>\n",
       "    <tr>\n",
       "      <th>2</th>\n",
       "      <td>1</td>\n",
       "      <td>6</td>\n",
       "      <td>4.0</td>\n",
       "      <td>964982224</td>\n",
       "    </tr>\n",
       "    <tr>\n",
       "      <th>3</th>\n",
       "      <td>1</td>\n",
       "      <td>47</td>\n",
       "      <td>5.0</td>\n",
       "      <td>964983815</td>\n",
       "    </tr>\n",
       "    <tr>\n",
       "      <th>4</th>\n",
       "      <td>1</td>\n",
       "      <td>50</td>\n",
       "      <td>5.0</td>\n",
       "      <td>964982931</td>\n",
       "    </tr>\n",
       "  </tbody>\n",
       "</table>\n",
       "</div>"
      ],
      "text/plain": [
       "   userId  movieId  rating  timestamp\n",
       "0       1        1     4.0  964982703\n",
       "1       1        3     4.0  964981247\n",
       "2       1        6     4.0  964982224\n",
       "3       1       47     5.0  964983815\n",
       "4       1       50     5.0  964982931"
      ]
     },
     "execution_count": 2,
     "metadata": {},
     "output_type": "execute_result"
    }
   ],
   "source": [
    "movie_data = pd.read_csv('./datasets/movies/ml-latest-small/ratings.csv',\n",
    "                         sep=',', header=0)\n",
    "\n",
    "movie_data.head()"
   ]
  },
  {
   "cell_type": "code",
   "execution_count": 3,
   "metadata": {},
   "outputs": [
    {
     "data": {
      "text/plain": [
       "(100836, 4)"
      ]
     },
     "execution_count": 3,
     "metadata": {},
     "output_type": "execute_result"
    }
   ],
   "source": [
    "movie_data.shape"
   ]
  },
  {
   "cell_type": "code",
   "execution_count": 4,
   "metadata": {},
   "outputs": [
    {
     "data": {
      "text/plain": [
       "610"
      ]
     },
     "execution_count": 4,
     "metadata": {},
     "output_type": "execute_result"
    }
   ],
   "source": [
    "NUM_USERS = movie_data['userId'].max()\n",
    "\n",
    "NUM_USERS"
   ]
  },
  {
   "cell_type": "code",
   "execution_count": 5,
   "metadata": {},
   "outputs": [
    {
     "data": {
      "text/plain": [
       "193609"
      ]
     },
     "execution_count": 5,
     "metadata": {},
     "output_type": "execute_result"
    }
   ],
   "source": [
    "NUM_ITEMS = movie_data['movieId'].max()\n",
    "\n",
    "NUM_ITEMS"
   ]
  },
  {
   "cell_type": "code",
   "execution_count": 6,
   "metadata": {},
   "outputs": [],
   "source": [
    "TEST_USER_IDS = [5, 24, 45, 67, 89, 123, 239, 345, 456, 598]"
   ]
  },
  {
   "cell_type": "code",
   "execution_count": 7,
   "metadata": {},
   "outputs": [
    {
     "data": {
      "text/html": [
       "<div>\n",
       "<style scoped>\n",
       "    .dataframe tbody tr th:only-of-type {\n",
       "        vertical-align: middle;\n",
       "    }\n",
       "\n",
       "    .dataframe tbody tr th {\n",
       "        vertical-align: top;\n",
       "    }\n",
       "\n",
       "    .dataframe thead th {\n",
       "        text-align: right;\n",
       "    }\n",
       "</style>\n",
       "<table border=\"1\" class=\"dataframe\">\n",
       "  <thead>\n",
       "    <tr style=\"text-align: right;\">\n",
       "      <th></th>\n",
       "      <th>userId</th>\n",
       "      <th>movieId</th>\n",
       "      <th>rating</th>\n",
       "      <th>timestamp</th>\n",
       "    </tr>\n",
       "  </thead>\n",
       "  <tbody>\n",
       "    <tr>\n",
       "      <th>516</th>\n",
       "      <td>5</td>\n",
       "      <td>1</td>\n",
       "      <td>4.0</td>\n",
       "      <td>847434962</td>\n",
       "    </tr>\n",
       "    <tr>\n",
       "      <th>517</th>\n",
       "      <td>5</td>\n",
       "      <td>21</td>\n",
       "      <td>4.0</td>\n",
       "      <td>847435238</td>\n",
       "    </tr>\n",
       "    <tr>\n",
       "      <th>518</th>\n",
       "      <td>5</td>\n",
       "      <td>34</td>\n",
       "      <td>4.0</td>\n",
       "      <td>847434881</td>\n",
       "    </tr>\n",
       "    <tr>\n",
       "      <th>519</th>\n",
       "      <td>5</td>\n",
       "      <td>36</td>\n",
       "      <td>4.0</td>\n",
       "      <td>847435292</td>\n",
       "    </tr>\n",
       "    <tr>\n",
       "      <th>520</th>\n",
       "      <td>5</td>\n",
       "      <td>39</td>\n",
       "      <td>3.0</td>\n",
       "      <td>847434961</td>\n",
       "    </tr>\n",
       "  </tbody>\n",
       "</table>\n",
       "</div>"
      ],
      "text/plain": [
       "     userId  movieId  rating  timestamp\n",
       "516       5        1     4.0  847434962\n",
       "517       5       21     4.0  847435238\n",
       "518       5       34     4.0  847434881\n",
       "519       5       36     4.0  847435292\n",
       "520       5       39     3.0  847434961"
      ]
     },
     "execution_count": 7,
     "metadata": {},
     "output_type": "execute_result"
    }
   ],
   "source": [
    "test_movie_users = movie_data[movie_data['userId'].isin(TEST_USER_IDS)]\n",
    "\n",
    "test_movie_users.head()"
   ]
  },
  {
   "cell_type": "code",
   "execution_count": 8,
   "metadata": {},
   "outputs": [],
   "source": [
    "def load_ratings_matrix(movie_data):\n",
    "\n",
    "    ratings_matrix = sp.dok_matrix((NUM_USERS + 1, NUM_ITEMS + 1), dtype=np.float32)\n",
    "\n",
    "    for index, row in movie_data.iterrows():\n",
    "        user, item, rating = int(row['userId']), int(row['movieId']), float(row['rating'])\n",
    "        \n",
    "        ratings_matrix[user, item] = rating\n",
    "    \n",
    "    random_user = np.random.randint(1, NUM_USERS)\n",
    "    \n",
    "    return ratings_matrix"
   ]
  },
  {
   "cell_type": "code",
   "execution_count": 9,
   "metadata": {},
   "outputs": [
    {
     "data": {
      "text/plain": [
       "(611, 193610)"
      ]
     },
     "execution_count": 9,
     "metadata": {},
     "output_type": "execute_result"
    }
   ],
   "source": [
    "ratings_matrix = load_ratings_matrix(movie_data)\n",
    "\n",
    "ratings_matrix.shape"
   ]
  },
  {
   "cell_type": "code",
   "execution_count": 10,
   "metadata": {},
   "outputs": [],
   "source": [
    "class RecommenderNN(nn.Module):\n",
    "\n",
    "    def __init__(self, n_users, n_items, layers=[24, 16], dropout=0.2):\n",
    "\n",
    "        super().__init__()\n",
    "\n",
    "        assert (layers[0] % 2 == 0), \"layers[0] must be an even number\"\n",
    "\n",
    "        self.dropout = dropout\n",
    "\n",
    "        embedding_dim = int(layers[0] / 2)\n",
    "\n",
    "        self.user_embedding = torch.nn.Embedding(n_users, embedding_dim)\n",
    "        self.item_embedding = torch.nn.Embedding(n_items, embedding_dim)\n",
    "\n",
    "        self.fc_layers = torch.nn.ModuleList()\n",
    "\n",
    "        for _, (in_size, out_size) in enumerate(zip(layers[:-1], layers[1:])):\n",
    "            self.fc_layers.append(torch.nn.Linear(in_size, out_size))\n",
    "\n",
    "        # Output of the last layer is just 1 for predicting ratings values\n",
    "        self.output_layer = torch.nn.Linear(layers[-1], 1)\n",
    "\n",
    "    def forward(self, users, items):\n",
    "        user_embedding = self.user_embedding(users)\n",
    "        item_embedding = self.item_embedding(items)\n",
    "\n",
    "        # Concatenate user and item embeddings, this is the input to the NN\n",
    "        x = torch.cat([user_embedding, item_embedding], 1)\n",
    "        \n",
    "        for idx, _ in enumerate(range(len(self.fc_layers))):\n",
    "            x = self.fc_layers[idx](x)\n",
    "            x = F.relu(x)\n",
    "            x = F.dropout(x,  p=self.dropout, training=self.training)\n",
    "        \n",
    "        rating = self.output_layer(x)\n",
    "\n",
    "        return rating\n",
    "\n",
    "    def predict(self, users, items):\n",
    "        output_scores = self.forward(users, items)\n",
    "\n",
    "        return output_scores.cpu().detach().numpy()"
   ]
  },
  {
   "cell_type": "code",
   "execution_count": 11,
   "metadata": {},
   "outputs": [],
   "source": [
    "def generate_training_instances(ratings_matrix):\n",
    "    \n",
    "    user_item_ratings = {}\n",
    "    index = 0\n",
    "    \n",
    "    for user, item in ratings_matrix.keys():\n",
    "        \n",
    "        user_item_ratings[index] = (user, item, ratings_matrix[user, item])\n",
    "        index += 1\n",
    "    \n",
    "    return user_item_ratings"
   ]
  },
  {
   "cell_type": "code",
   "execution_count": 12,
   "metadata": {},
   "outputs": [
    {
     "data": {
      "text/plain": [
       "100836"
      ]
     },
     "execution_count": 12,
     "metadata": {},
     "output_type": "execute_result"
    }
   ],
   "source": [
    "train_user_item_ratings = generate_training_instances(ratings_matrix)\n",
    "\n",
    "len(train_user_item_ratings)"
   ]
  },
  {
   "cell_type": "code",
   "execution_count": 13,
   "metadata": {},
   "outputs": [
    {
     "data": {
      "text/plain": [
       "((1, 1, 4.0), (1, 47, 5.0))"
      ]
     },
     "execution_count": 13,
     "metadata": {},
     "output_type": "execute_result"
    }
   ],
   "source": [
    "train_user_item_ratings[0], train_user_item_ratings[3]"
   ]
  },
  {
   "cell_type": "code",
   "execution_count": 14,
   "metadata": {},
   "outputs": [],
   "source": [
    "def train(model, train_data_loader, criterion, optimizer, epoch):\n",
    "    \n",
    "    model.train()\n",
    "    \n",
    "    epoch_loss = []\n",
    "    \n",
    "    for users_items_rating in train_data_loader:\n",
    "        \n",
    "        users, items, ratings = users_items_rating\n",
    "        \n",
    "        predictions = model(users, items)\n",
    "        \n",
    "        # Convert to float and change dim from [batch_size] to [batch_size, 1]\n",
    "        ratings = ratings.float().view(predictions.size())\n",
    "        \n",
    "        loss = criterion(predictions, ratings)\n",
    "        \n",
    "        optimizer.zero_grad()\n",
    "        loss.backward()\n",
    "        \n",
    "        optimizer.step()\n",
    "        \n",
    "        epoch_loss.append(loss.item())\n",
    "        \n",
    "    epoch_loss = np.mean(epoch_loss)\n",
    "\n",
    "    print(\"Epoch completed\", epoch)\n",
    "    \n",
    "    print(\"Train Loss: {%.4f}\" % (epoch_loss))"
   ]
  },
  {
   "cell_type": "code",
   "execution_count": 15,
   "metadata": {},
   "outputs": [],
   "source": [
    "def load_zero_rated(ratings_matrix, user_id, user_item_ratings): \n",
    "    \n",
    "    for i in range(100):\n",
    "        potential_zero_item = np.random.randint(1, NUM_ITEMS)\n",
    "        \n",
    "        while (user_id, potential_zero_item) in ratings_matrix:\n",
    "            potential_zero_item = np.random.randint(1, NUM_ITEMS)\n",
    "            \n",
    "        user_item_ratings['users'] = \\\n",
    "            np.append(user_item_ratings['users'], np.array([user_id]))\n",
    "        \n",
    "        user_item_ratings['items'] = \\\n",
    "            np.append(user_item_ratings['items'], np.array([potential_zero_item]))\n",
    "        \n",
    "        user_item_ratings['ratings'] = \\\n",
    "            np.append(user_item_ratings['ratings'], np.array([0]))"
   ]
  },
  {
   "cell_type": "code",
   "execution_count": 16,
   "metadata": {},
   "outputs": [],
   "source": [
    "def generate_test_instances(ratings_matrix, test_movie_users):\n",
    "\n",
    "    test_list = []\n",
    "\n",
    "    for user_id in TEST_USER_IDS:\n",
    "        \n",
    "        user_item_ratings_df = test_movie_users[test_movie_users['userId'] == user_id]\n",
    "        user_item_ratings_df = user_item_ratings_df[user_item_ratings_df['rating'] >= 4]\n",
    "        \n",
    "        user_item_ratings = {}\n",
    "        \n",
    "        user_item_ratings['users'] = user_item_ratings_df['userId'].values[5:15]\n",
    "        user_item_ratings['items'] = user_item_ratings_df['movieId'].values[5:15]\n",
    "        user_item_ratings['ratings'] = user_item_ratings_df['rating'].values[5:15]\n",
    "        \n",
    "        load_zero_rated(ratings_matrix, user_id, user_item_ratings)\n",
    "        \n",
    "        test_list.append(user_item_ratings)\n",
    "        \n",
    "    return test_list"
   ]
  },
  {
   "cell_type": "code",
   "execution_count": 17,
   "metadata": {},
   "outputs": [
    {
     "data": {
      "text/plain": [
       "10"
      ]
     },
     "execution_count": 17,
     "metadata": {},
     "output_type": "execute_result"
    }
   ],
   "source": [
    "test_list = generate_test_instances(ratings_matrix, test_movie_users)\n",
    "\n",
    "len(test_list)"
   ]
  },
  {
   "cell_type": "code",
   "execution_count": 18,
   "metadata": {},
   "outputs": [
    {
     "data": {
      "text/plain": [
       "{'users': array([5, 5, 5, 5, 5, 5, 5, 5, 5, 5, 5, 5, 5, 5, 5, 5, 5, 5, 5, 5, 5, 5,\n",
       "        5, 5, 5, 5, 5, 5, 5, 5, 5, 5, 5, 5, 5, 5, 5, 5, 5, 5, 5, 5, 5, 5,\n",
       "        5, 5, 5, 5, 5, 5, 5, 5, 5, 5, 5, 5, 5, 5, 5, 5, 5, 5, 5, 5, 5, 5,\n",
       "        5, 5, 5, 5, 5, 5, 5, 5, 5, 5, 5, 5, 5, 5, 5, 5, 5, 5, 5, 5, 5, 5,\n",
       "        5, 5, 5, 5, 5, 5, 5, 5, 5, 5, 5, 5, 5, 5, 5, 5, 5, 5, 5, 5, 5, 5],\n",
       "       dtype=int64),\n",
       " 'items': array([    58,    110,    232,    247,    261,    290,    296,    367,\n",
       "           457,    474, 154234,  50175,  12731,  54216,  26141,  87230,\n",
       "        126417, 167359,  83966,  62100, 143447, 169679,  10644,   9342,\n",
       "         57207,  81532, 116912,  66408,  10458, 129094,  41217, 121152,\n",
       "        103873,  57663,  51833,  19636,  52111, 117191, 174948, 167307,\n",
       "         17922, 157528, 186922, 138733, 190358, 140864, 128483, 150809,\n",
       "        173182, 137929, 110997,  56935,  22424,  66274,  32829,  91305,\n",
       "         42665, 124247,  57086,  33459, 124739,  84117,  50179, 111096,\n",
       "        172674,  70851, 156316, 183409, 159803,  71987,  15422,  25899,\n",
       "        144617, 121277,  92359,  57618, 137791,  51284, 159788, 141665,\n",
       "         85201, 163691,  38261,  77912, 153565, 172982,   6884,  47883,\n",
       "        124734,  33763,   4111,  65955, 116167,   5614, 170473, 185214,\n",
       "         85536, 158999,  88345,  78197, 185902,  82425, 177824,  51161,\n",
       "         19103, 102905,  39942, 111361, 114987,  94296], dtype=int64),\n",
       " 'ratings': array([5., 4., 4., 5., 4., 5., 5., 4., 4., 4., 0., 0., 0., 0., 0., 0., 0.,\n",
       "        0., 0., 0., 0., 0., 0., 0., 0., 0., 0., 0., 0., 0., 0., 0., 0., 0.,\n",
       "        0., 0., 0., 0., 0., 0., 0., 0., 0., 0., 0., 0., 0., 0., 0., 0., 0.,\n",
       "        0., 0., 0., 0., 0., 0., 0., 0., 0., 0., 0., 0., 0., 0., 0., 0., 0.,\n",
       "        0., 0., 0., 0., 0., 0., 0., 0., 0., 0., 0., 0., 0., 0., 0., 0., 0.,\n",
       "        0., 0., 0., 0., 0., 0., 0., 0., 0., 0., 0., 0., 0., 0., 0., 0., 0.,\n",
       "        0., 0., 0., 0., 0., 0., 0., 0.])}"
      ]
     },
     "execution_count": 18,
     "metadata": {},
     "output_type": "execute_result"
    }
   ],
   "source": [
    "test_list[0]"
   ]
  },
  {
   "cell_type": "code",
   "execution_count": 19,
   "metadata": {},
   "outputs": [],
   "source": [
    "def evaluate(model, test_list):\n",
    "\n",
    "    model.eval()\n",
    "    \n",
    "    apks = []\n",
    "\n",
    "    for user_item_ratings in test_list:\n",
    "        \n",
    "        users = torch.tensor(user_item_ratings['users'])\n",
    "        items = torch.tensor(user_item_ratings['items'])\n",
    "        ratings = user_item_ratings['ratings']\n",
    "\n",
    "        predictions = model.predict(users, items)\n",
    "        \n",
    "        item_score_map = {}\n",
    "        \n",
    "        for i, item in enumerate(user_item_ratings['items']):\n",
    "            item_score_map[item] = predictions[i]\n",
    "        \n",
    "        rank_list = heapq.nlargest(100, item_score_map, key=item_score_map.get)\n",
    "        \n",
    "        items_list = items.detach().numpy().tolist()\n",
    "        rank_list = list(rank_list)\n",
    "\n",
    "        apk = metrics.apk(items_list[:10], rank_list[:10])\n",
    "        \n",
    "        apks.append(apk)\n",
    "        \n",
    "    \n",
    "    print(\"Evaluation mean APK : {%.4f}\" % np.mean(apks))"
   ]
  },
  {
   "cell_type": "code",
   "execution_count": 20,
   "metadata": {},
   "outputs": [],
   "source": [
    "model = RecommenderNN(NUM_USERS + 1, NUM_ITEMS + 1, [32, 16, 8], dropout=0.2)\n",
    "\n",
    "criterion = torch.nn.MSELoss()\n",
    "\n",
    "optimizer = torch.optim.Adam(model.parameters(), lr=0.001, weight_decay=0.00001)\n",
    "\n",
    "num_epochs = 15"
   ]
  },
  {
   "cell_type": "code",
   "execution_count": 21,
   "metadata": {},
   "outputs": [],
   "source": [
    "train_data_loader = DataLoader(\n",
    "    train_user_item_ratings, batch_size=100, shuffle=True, num_workers=0)"
   ]
  },
  {
   "cell_type": "code",
   "execution_count": 22,
   "metadata": {},
   "outputs": [
    {
     "name": "stdout",
     "output_type": "stream",
     "text": [
      "Epoch completed 1\n",
      "Train Loss: {2.6465}\n",
      "Evaluation mean APK : {0.3198}\n",
      "Epoch completed 2\n",
      "Train Loss: {1.4787}\n",
      "Evaluation mean APK : {0.5713}\n",
      "Epoch completed 3\n",
      "Train Loss: {1.2799}\n",
      "Evaluation mean APK : {0.6396}\n",
      "Epoch completed 4\n",
      "Train Loss: {1.1392}\n",
      "Evaluation mean APK : {0.7314}\n",
      "Epoch completed 5\n",
      "Train Loss: {1.0419}\n",
      "Evaluation mean APK : {0.7581}\n",
      "Epoch completed 6\n",
      "Train Loss: {0.9658}\n",
      "Evaluation mean APK : {0.7961}\n",
      "Epoch completed 7\n",
      "Train Loss: {0.9083}\n",
      "Evaluation mean APK : {0.8045}\n",
      "Epoch completed 8\n",
      "Train Loss: {0.8697}\n",
      "Evaluation mean APK : {0.8450}\n",
      "Epoch completed 9\n",
      "Train Loss: {0.8435}\n",
      "Evaluation mean APK : {0.8560}\n",
      "Epoch completed 10\n",
      "Train Loss: {0.8255}\n",
      "Evaluation mean APK : {0.8530}\n",
      "Epoch completed 11\n",
      "Train Loss: {0.8132}\n",
      "Evaluation mean APK : {0.8170}\n",
      "Epoch completed 12\n",
      "Train Loss: {0.8027}\n",
      "Evaluation mean APK : {0.8154}\n",
      "Epoch completed 13\n",
      "Train Loss: {0.7916}\n",
      "Evaluation mean APK : {0.8004}\n",
      "Epoch completed 14\n",
      "Train Loss: {0.7867}\n",
      "Evaluation mean APK : {0.8019}\n",
      "Epoch completed 15\n",
      "Train Loss: {0.7757}\n",
      "Evaluation mean APK : {0.7920}\n"
     ]
    }
   ],
   "source": [
    "for epoch in range(1, num_epochs + 1):\n",
    "    \n",
    "    train(model, train_data_loader, criterion, optimizer, epoch)\n",
    "    evaluate(model, test_list)"
   ]
  }
 ],
 "metadata": {
  "kernelspec": {
   "display_name": "Python 3",
   "language": "python",
   "name": "python3"
  },
  "language_info": {
   "codemirror_mode": {
    "name": "ipython",
    "version": 3
   },
   "file_extension": ".py",
   "mimetype": "text/x-python",
   "name": "python",
   "nbconvert_exporter": "python",
   "pygments_lexer": "ipython3",
   "version": "3.7.6"
  }
 },
 "nbformat": 4,
 "nbformat_minor": 4
}
