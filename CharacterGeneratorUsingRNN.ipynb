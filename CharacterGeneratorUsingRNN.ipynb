{
 "cells": [
  {
   "cell_type": "markdown",
   "metadata": {},
   "source": [
    "# Character Generation"
   ]
  },
  {
   "cell_type": "code",
   "execution_count": 1,
   "metadata": {},
   "outputs": [],
   "source": [
    "from io import open\n",
    "import glob\n",
    "import os\n",
    "import random\n",
    "import unicodedata\n",
    "import string\n",
    "\n",
    "import matplotlib.pyplot as plt\n",
    "\n",
    "import torch\n",
    "import torch.nn as nn"
   ]
  },
  {
   "cell_type": "code",
   "execution_count": 2,
   "metadata": {},
   "outputs": [],
   "source": [
    "FILE_PATH = 'datasets/names/*.txt'"
   ]
  },
  {
   "cell_type": "code",
   "execution_count": 3,
   "metadata": {},
   "outputs": [
    {
     "name": "stdout",
     "output_type": "stream",
     "text": [
      "['datasets/names\\\\Arabic.txt', 'datasets/names\\\\Chinese.txt', 'datasets/names\\\\Czech.txt', 'datasets/names\\\\Dutch.txt', 'datasets/names\\\\English.txt', 'datasets/names\\\\French.txt', 'datasets/names\\\\German.txt', 'datasets/names\\\\Greek.txt', 'datasets/names\\\\Irish.txt', 'datasets/names\\\\Italian.txt', 'datasets/names\\\\Japanese.txt', 'datasets/names\\\\Korean.txt', 'datasets/names\\\\Polish.txt', 'datasets/names\\\\Portuguese.txt', 'datasets/names\\\\Russian.txt', 'datasets/names\\\\Scottish.txt', 'datasets/names\\\\Spanish.txt', 'datasets/names\\\\Vietnamese.txt']\n"
     ]
    }
   ],
   "source": [
    "print(glob.glob(FILE_PATH))"
   ]
  },
  {
   "cell_type": "code",
   "execution_count": 4,
   "metadata": {},
   "outputs": [
    {
     "data": {
      "text/plain": [
       "(\"abcdefghijklmnopqrstuvwxyzABCDEFGHIJKLMNOPQRSTUVWXYZ .'/\", 56)"
      ]
     },
     "execution_count": 4,
     "metadata": {},
     "output_type": "execute_result"
    }
   ],
   "source": [
    "EOS = '/'\n",
    "\n",
    "all_letters = string.ascii_letters + \" .'\" + EOS\n",
    "n_letters = len(all_letters)\n",
    "\n",
    "all_letters, n_letters"
   ]
  },
  {
   "cell_type": "code",
   "execution_count": 5,
   "metadata": {},
   "outputs": [
    {
     "data": {
      "text/plain": [
       "55"
      ]
     },
     "execution_count": 5,
     "metadata": {},
     "output_type": "execute_result"
    }
   ],
   "source": [
    "EOS_INDEX = n_letters -1\n",
    "\n",
    "EOS_INDEX"
   ]
  },
  {
   "cell_type": "code",
   "execution_count": 6,
   "metadata": {},
   "outputs": [],
   "source": [
    "def unicode_to_ascii(s):\n",
    "    return ''.join(\n",
    "        c for c in unicodedata.normalize('NFD', s)\n",
    "        if unicodedata.category(c) != 'Mn'\n",
    "        and c in all_letters\n",
    "    )"
   ]
  },
  {
   "cell_type": "code",
   "execution_count": 7,
   "metadata": {},
   "outputs": [
    {
     "name": "stdout",
     "output_type": "stream",
     "text": [
      "Krol\n"
     ]
    }
   ],
   "source": [
    "print(unicode_to_ascii('Krol'))"
   ]
  },
  {
   "cell_type": "code",
   "execution_count": 8,
   "metadata": {},
   "outputs": [
    {
     "name": "stdout",
     "output_type": "stream",
     "text": [
      "Smolak\n"
     ]
    }
   ],
   "source": [
    "print(unicode_to_ascii('Smolak'))"
   ]
  },
  {
   "cell_type": "code",
   "execution_count": 9,
   "metadata": {},
   "outputs": [
    {
     "name": "stdout",
     "output_type": "stream",
     "text": [
      "O'Neal\n"
     ]
    }
   ],
   "source": [
    "print(unicode_to_ascii(\"O'Neal\"))"
   ]
  },
  {
   "cell_type": "code",
   "execution_count": 10,
   "metadata": {},
   "outputs": [],
   "source": [
    "def find_files(path):\n",
    "    return glob.glob(path)"
   ]
  },
  {
   "cell_type": "code",
   "execution_count": 11,
   "metadata": {},
   "outputs": [],
   "source": [
    "total_names = 0\n",
    "\n",
    "language_names = {}\n",
    "\n",
    "all_languages = []\n",
    "\n",
    "for filename in find_files(FILE_PATH):\n",
    "    \n",
    "    language = os.path.splitext(os.path.basename(filename))[0]\n",
    "    \n",
    "    all_languages.append(language)\n",
    "    \n",
    "    names_in_file = open(filename, encoding='utf-8').read().strip().split('\\n')\n",
    "    \n",
    "    names = [unicode_to_ascii(name) for name in names_in_file]\n",
    "    \n",
    "    language_names[language] = names\n",
    "    \n",
    "    total_names += len(names)"
   ]
  },
  {
   "cell_type": "code",
   "execution_count": 12,
   "metadata": {},
   "outputs": [
    {
     "data": {
      "text/plain": [
       "['Arabic',\n",
       " 'Chinese',\n",
       " 'Czech',\n",
       " 'Dutch',\n",
       " 'English',\n",
       " 'French',\n",
       " 'German',\n",
       " 'Greek',\n",
       " 'Irish',\n",
       " 'Italian',\n",
       " 'Japanese',\n",
       " 'Korean',\n",
       " 'Polish',\n",
       " 'Portuguese',\n",
       " 'Russian',\n",
       " 'Scottish',\n",
       " 'Spanish',\n",
       " 'Vietnamese']"
      ]
     },
     "execution_count": 12,
     "metadata": {},
     "output_type": "execute_result"
    }
   ],
   "source": [
    "all_languages"
   ]
  },
  {
   "cell_type": "code",
   "execution_count": 13,
   "metadata": {},
   "outputs": [
    {
     "data": {
      "text/plain": [
       "18"
      ]
     },
     "execution_count": 13,
     "metadata": {},
     "output_type": "execute_result"
    }
   ],
   "source": [
    "n_languages = len(all_languages)\n",
    "n_languages"
   ]
  },
  {
   "cell_type": "code",
   "execution_count": 14,
   "metadata": {},
   "outputs": [
    {
     "data": {
      "text/plain": [
       "20074"
      ]
     },
     "execution_count": 14,
     "metadata": {},
     "output_type": "execute_result"
    }
   ],
   "source": [
    "total_names"
   ]
  },
  {
   "cell_type": "code",
   "execution_count": 15,
   "metadata": {},
   "outputs": [
    {
     "name": "stdout",
     "output_type": "stream",
     "text": [
      "['Abana', 'Abano', 'Abarca', 'Abaroa', 'Abascal']\n"
     ]
    }
   ],
   "source": [
    "print(language_names['Spanish'][:5])"
   ]
  },
  {
   "cell_type": "code",
   "execution_count": 16,
   "metadata": {},
   "outputs": [
    {
     "name": "stdout",
     "output_type": "stream",
     "text": [
      "['Xylander', 'Zellweger', 'Zilberschlag', 'Zimmerman', 'Zimmermann']\n"
     ]
    }
   ],
   "source": [
    "print(language_names['German'][-5:])"
   ]
  },
  {
   "cell_type": "code",
   "execution_count": 17,
   "metadata": {},
   "outputs": [],
   "source": [
    "def letter_to_tensor(letter):\n",
    "    \n",
    "    tensor = torch.zeros(1, n_letters)\n",
    "    tensor[0][all_letters.find(letter)] = 1\n",
    "    \n",
    "    return tensor"
   ]
  },
  {
   "cell_type": "code",
   "execution_count": 18,
   "metadata": {},
   "outputs": [
    {
     "name": "stdout",
     "output_type": "stream",
     "text": [
      "tensor([[0., 1., 0., 0., 0., 0., 0., 0., 0., 0., 0., 0., 0., 0., 0., 0., 0., 0.,\n",
      "         0., 0., 0., 0., 0., 0., 0., 0., 0., 0., 0., 0., 0., 0., 0., 0., 0., 0.,\n",
      "         0., 0., 0., 0., 0., 0., 0., 0., 0., 0., 0., 0., 0., 0., 0., 0., 0., 0.,\n",
      "         0., 0.]])\n"
     ]
    }
   ],
   "source": [
    "print(letter_to_tensor('b'))"
   ]
  },
  {
   "cell_type": "code",
   "execution_count": 19,
   "metadata": {},
   "outputs": [
    {
     "name": "stdout",
     "output_type": "stream",
     "text": [
      "tensor([[0., 0., 0., 0., 0., 0., 0., 0., 0., 0., 0., 0., 0., 0., 0., 0., 0., 0.,\n",
      "         0., 0., 0., 0., 0., 0., 0., 0., 0., 0., 0., 0., 0., 0., 0., 0., 0., 0.,\n",
      "         0., 0., 0., 0., 0., 0., 0., 0., 0., 0., 0., 0., 0., 0., 0., 1., 0., 0.,\n",
      "         0., 0.]])\n"
     ]
    }
   ],
   "source": [
    "print(letter_to_tensor('Z'))"
   ]
  },
  {
   "cell_type": "code",
   "execution_count": 20,
   "metadata": {},
   "outputs": [],
   "source": [
    "def input_name_to_tensor(name):\n",
    "    tensor = torch.zeros(len(name), 1, n_letters)\n",
    "    \n",
    "    for li, letter in enumerate(name):\n",
    "        tensor[li][0][all_letters.find(letter)] = 1\n",
    "        \n",
    "    return tensor"
   ]
  },
  {
   "cell_type": "code",
   "execution_count": 21,
   "metadata": {},
   "outputs": [
    {
     "data": {
      "text/plain": [
       "torch.Size([4, 1, 56])"
      ]
     },
     "execution_count": 21,
     "metadata": {},
     "output_type": "execute_result"
    }
   ],
   "source": [
    "anna_input_tensor = input_name_to_tensor('Anna')\n",
    "\n",
    "anna_input_tensor.size()"
   ]
  },
  {
   "cell_type": "code",
   "execution_count": 22,
   "metadata": {},
   "outputs": [
    {
     "data": {
      "text/plain": [
       "tensor([[[0., 0., 0., 0., 0., 0., 0., 0., 0., 0., 0., 0., 0., 0., 0., 0., 0.,\n",
       "          0., 0., 0., 0., 0., 0., 0., 0., 0., 1., 0., 0., 0., 0., 0., 0., 0.,\n",
       "          0., 0., 0., 0., 0., 0., 0., 0., 0., 0., 0., 0., 0., 0., 0., 0., 0.,\n",
       "          0., 0., 0., 0., 0.]],\n",
       "\n",
       "        [[0., 0., 0., 0., 0., 0., 0., 0., 0., 0., 0., 0., 0., 1., 0., 0., 0.,\n",
       "          0., 0., 0., 0., 0., 0., 0., 0., 0., 0., 0., 0., 0., 0., 0., 0., 0.,\n",
       "          0., 0., 0., 0., 0., 0., 0., 0., 0., 0., 0., 0., 0., 0., 0., 0., 0.,\n",
       "          0., 0., 0., 0., 0.]],\n",
       "\n",
       "        [[0., 0., 0., 0., 0., 0., 0., 0., 0., 0., 0., 0., 0., 1., 0., 0., 0.,\n",
       "          0., 0., 0., 0., 0., 0., 0., 0., 0., 0., 0., 0., 0., 0., 0., 0., 0.,\n",
       "          0., 0., 0., 0., 0., 0., 0., 0., 0., 0., 0., 0., 0., 0., 0., 0., 0.,\n",
       "          0., 0., 0., 0., 0.]],\n",
       "\n",
       "        [[1., 0., 0., 0., 0., 0., 0., 0., 0., 0., 0., 0., 0., 0., 0., 0., 0.,\n",
       "          0., 0., 0., 0., 0., 0., 0., 0., 0., 0., 0., 0., 0., 0., 0., 0., 0.,\n",
       "          0., 0., 0., 0., 0., 0., 0., 0., 0., 0., 0., 0., 0., 0., 0., 0., 0.,\n",
       "          0., 0., 0., 0., 0.]]])"
      ]
     },
     "execution_count": 22,
     "metadata": {},
     "output_type": "execute_result"
    }
   ],
   "source": [
    "anna_input_tensor"
   ]
  },
  {
   "cell_type": "code",
   "execution_count": 23,
   "metadata": {},
   "outputs": [],
   "source": [
    "def target_name_to_tensor(name):\n",
    "    letter_indexes = [all_letters.find(name[li]) for li in range(1, len(name))]\n",
    "    \n",
    "    letter_indexes.append(EOS_INDEX)\n",
    "    \n",
    "    return torch.LongTensor(letter_indexes)"
   ]
  },
  {
   "cell_type": "code",
   "execution_count": 24,
   "metadata": {},
   "outputs": [
    {
     "data": {
      "text/plain": [
       "tensor([13, 13,  0, 55])"
      ]
     },
     "execution_count": 24,
     "metadata": {},
     "output_type": "execute_result"
    }
   ],
   "source": [
    "target_name_to_tensor('Anna')"
   ]
  },
  {
   "cell_type": "code",
   "execution_count": 25,
   "metadata": {},
   "outputs": [
    {
     "data": {
      "text/plain": [
       "tensor([ 8, 12, 14, 13, 55])"
      ]
     },
     "execution_count": 25,
     "metadata": {},
     "output_type": "execute_result"
    }
   ],
   "source": [
    "target_name_to_tensor('Simon')"
   ]
  },
  {
   "cell_type": "code",
   "execution_count": 26,
   "metadata": {},
   "outputs": [],
   "source": [
    "def language_to_tensor(language):\n",
    "    li = all_languages.index(language)\n",
    "    \n",
    "    category_tensor = torch.zeros(1, n_languages)\n",
    "    \n",
    "    category_tensor[0][li] = 1\n",
    "    \n",
    "    return category_tensor"
   ]
  },
  {
   "cell_type": "code",
   "execution_count": 27,
   "metadata": {},
   "outputs": [
    {
     "data": {
      "text/plain": [
       "tensor([[0., 0., 1., 0., 0., 0., 0., 0., 0., 0., 0., 0., 0., 0., 0., 0., 0., 0.]])"
      ]
     },
     "execution_count": 27,
     "metadata": {},
     "output_type": "execute_result"
    }
   ],
   "source": [
    "language_to_tensor('Czech')"
   ]
  },
  {
   "cell_type": "code",
   "execution_count": 28,
   "metadata": {},
   "outputs": [
    {
     "data": {
      "text/plain": [
       "tensor([[0., 0., 0., 0., 0., 0., 0., 0., 0., 0., 1., 0., 0., 0., 0., 0., 0., 0.]])"
      ]
     },
     "execution_count": 28,
     "metadata": {},
     "output_type": "execute_result"
    }
   ],
   "source": [
    "language_to_tensor('Japanese')"
   ]
  },
  {
   "cell_type": "code",
   "execution_count": 29,
   "metadata": {},
   "outputs": [],
   "source": [
    "class RNN(nn.Module):\n",
    "    \n",
    "    def __init__(self, input_size, hidden_size, output_size):\n",
    "        super(RNN, self).__init__()\n",
    "        \n",
    "        self.hidden_size = hidden_size\n",
    "\n",
    "        self.i2h = nn.Linear(n_languages + input_size + hidden_size, hidden_size)\n",
    "        self.i2o = nn.Linear(n_languages + input_size + hidden_size, output_size)\n",
    "\n",
    "        self.o2o = nn.Linear(hidden_size + output_size, output_size)\n",
    "        \n",
    "        self.dropout = nn.Dropout(0.2)\n",
    "        self.log_softmax = nn.LogSoftmax(dim=1)\n",
    "\n",
    "    def forward(self, language, input_t, hidden):\n",
    "\n",
    "        input_combined = torch.cat((language, input_t, hidden), 1)\n",
    "\n",
    "        hidden = self.i2h(input_combined)\n",
    "        output = self.i2o(input_combined)\n",
    "        \n",
    "        output_combined = torch.cat((hidden, output), 1)\n",
    "        \n",
    "        output = self.o2o(output_combined)\n",
    "        output = self.dropout(output)\n",
    "\n",
    "        output = self.log_softmax(output)\n",
    "        \n",
    "        return output, hidden\n",
    "\n",
    "    def initHidden(self):\n",
    "        return torch.zeros(1, self.hidden_size)"
   ]
  },
  {
   "cell_type": "code",
   "execution_count": 30,
   "metadata": {},
   "outputs": [],
   "source": [
    "n_hidden = 256\n",
    "\n",
    "rnn = RNN(n_letters, n_hidden, n_letters)"
   ]
  },
  {
   "cell_type": "code",
   "execution_count": 31,
   "metadata": {},
   "outputs": [
    {
     "name": "stdout",
     "output_type": "stream",
     "text": [
      "output size = torch.Size([1, 56])\n",
      "next_hidden size = torch.Size([1, 256])\n"
     ]
    }
   ],
   "source": [
    "language = language_to_tensor('English')\n",
    "\n",
    "input_t = letter_to_tensor('S')\n",
    "\n",
    "hidden = torch.zeros(1, n_hidden)\n",
    "\n",
    "output, next_hidden = rnn(language, input_t, hidden)\n",
    "\n",
    "print('output size =', output.size())\n",
    "print('next_hidden size =', next_hidden.size())"
   ]
  },
  {
   "cell_type": "code",
   "execution_count": 32,
   "metadata": {},
   "outputs": [],
   "source": [
    "def letter_from_output(output):\n",
    "    \n",
    "    _, top_i = output.topk(1)\n",
    "    \n",
    "    letter_i = top_i[0].item()\n",
    "    \n",
    "    return all_letters[letter_i], letter_i"
   ]
  },
  {
   "cell_type": "code",
   "execution_count": 33,
   "metadata": {},
   "outputs": [
    {
     "data": {
      "text/plain": [
       "('p', 15)"
      ]
     },
     "execution_count": 33,
     "metadata": {},
     "output_type": "execute_result"
    }
   ],
   "source": [
    "letter_from_output(output)"
   ]
  },
  {
   "cell_type": "code",
   "execution_count": 34,
   "metadata": {},
   "outputs": [],
   "source": [
    "def random_training_example():\n",
    "    \n",
    "    random_language_index = random.randint(0, n_languages - 1)\n",
    "    language = all_languages[random_language_index]\n",
    "    \n",
    "    random_language_names = language_names[language]\n",
    "    name = random_language_names[random.randint(0, len(random_language_names) - 1)]\n",
    "    \n",
    "    language_tensor = language_to_tensor(language)\n",
    "    \n",
    "    input_name_tensor = input_name_to_tensor(name)\n",
    "    target_name_tensor = target_name_to_tensor(name)\n",
    "    \n",
    "    #print(language, name)\n",
    "    \n",
    "    return language_tensor, input_name_tensor, target_name_tensor"
   ]
  },
  {
   "cell_type": "code",
   "execution_count": 35,
   "metadata": {},
   "outputs": [
    {
     "data": {
      "text/plain": [
       "(tensor([[0., 0., 0., 0., 0., 0., 0., 0., 0., 0., 0., 0., 0., 0., 1., 0., 0., 0.]]),\n",
       " tensor([[[0., 0., 0., 0., 0., 0., 0., 0., 0., 0., 0., 0., 0., 0., 0., 0., 0.,\n",
       "           0., 0., 0., 0., 0., 0., 0., 0., 0., 0., 0., 0., 0., 0., 0., 0., 0.,\n",
       "           0., 0., 0., 0., 0., 0., 0., 1., 0., 0., 0., 0., 0., 0., 0., 0., 0.,\n",
       "           0., 0., 0., 0., 0.]],\n",
       " \n",
       "         [[0., 0., 0., 0., 0., 0., 0., 0., 0., 0., 0., 0., 0., 0., 0., 0., 0.,\n",
       "           0., 0., 0., 0., 0., 0., 0., 1., 0., 0., 0., 0., 0., 0., 0., 0., 0.,\n",
       "           0., 0., 0., 0., 0., 0., 0., 0., 0., 0., 0., 0., 0., 0., 0., 0., 0.,\n",
       "           0., 0., 0., 0., 0.]],\n",
       " \n",
       "         [[1., 0., 0., 0., 0., 0., 0., 0., 0., 0., 0., 0., 0., 0., 0., 0., 0.,\n",
       "           0., 0., 0., 0., 0., 0., 0., 0., 0., 0., 0., 0., 0., 0., 0., 0., 0.,\n",
       "           0., 0., 0., 0., 0., 0., 0., 0., 0., 0., 0., 0., 0., 0., 0., 0., 0.,\n",
       "           0., 0., 0., 0., 0.]],\n",
       " \n",
       "         [[0., 0., 0., 0., 0., 0., 0., 0., 0., 0., 0., 0., 0., 0., 0., 0., 0.,\n",
       "           0., 0., 0., 0., 1., 0., 0., 0., 0., 0., 0., 0., 0., 0., 0., 0., 0.,\n",
       "           0., 0., 0., 0., 0., 0., 0., 0., 0., 0., 0., 0., 0., 0., 0., 0., 0.,\n",
       "           0., 0., 0., 0., 0.]],\n",
       " \n",
       "         [[0., 0., 0., 0., 0., 0., 0., 0., 0., 0., 1., 0., 0., 0., 0., 0., 0.,\n",
       "           0., 0., 0., 0., 0., 0., 0., 0., 0., 0., 0., 0., 0., 0., 0., 0., 0.,\n",
       "           0., 0., 0., 0., 0., 0., 0., 0., 0., 0., 0., 0., 0., 0., 0., 0., 0.,\n",
       "           0., 0., 0., 0., 0.]],\n",
       " \n",
       "         [[0., 0., 0., 0., 0., 0., 0., 0., 0., 0., 0., 0., 0., 0., 1., 0., 0.,\n",
       "           0., 0., 0., 0., 0., 0., 0., 0., 0., 0., 0., 0., 0., 0., 0., 0., 0.,\n",
       "           0., 0., 0., 0., 0., 0., 0., 0., 0., 0., 0., 0., 0., 0., 0., 0., 0.,\n",
       "           0., 0., 0., 0., 0.]]]),\n",
       " tensor([24,  0, 21, 10, 14, 55]))"
      ]
     },
     "execution_count": 35,
     "metadata": {},
     "output_type": "execute_result"
    }
   ],
   "source": [
    "random_training_example()"
   ]
  },
  {
   "cell_type": "code",
   "execution_count": 36,
   "metadata": {},
   "outputs": [
    {
     "data": {
      "text/plain": [
       "(tensor([[0., 0., 0., 0., 0., 0., 0., 0., 0., 0., 0., 0., 1., 0., 0., 0., 0., 0.]]),\n",
       " tensor([[[0., 0., 0., 0., 0., 0., 0., 0., 0., 0., 0., 0., 0., 0., 0., 0., 0.,\n",
       "           0., 0., 0., 0., 0., 0., 0., 0., 0., 0., 0., 0., 0., 0., 0., 1., 0.,\n",
       "           0., 0., 0., 0., 0., 0., 0., 0., 0., 0., 0., 0., 0., 0., 0., 0., 0.,\n",
       "           0., 0., 0., 0., 0.]],\n",
       " \n",
       "         [[0., 0., 0., 0., 0., 0., 0., 0., 0., 0., 0., 0., 0., 0., 1., 0., 0.,\n",
       "           0., 0., 0., 0., 0., 0., 0., 0., 0., 0., 0., 0., 0., 0., 0., 0., 0.,\n",
       "           0., 0., 0., 0., 0., 0., 0., 0., 0., 0., 0., 0., 0., 0., 0., 0., 0.,\n",
       "           0., 0., 0., 0., 0.]],\n",
       " \n",
       "         [[0., 0., 0., 0., 0., 0., 0., 0., 0., 0., 0., 0., 1., 0., 0., 0., 0.,\n",
       "           0., 0., 0., 0., 0., 0., 0., 0., 0., 0., 0., 0., 0., 0., 0., 0., 0.,\n",
       "           0., 0., 0., 0., 0., 0., 0., 0., 0., 0., 0., 0., 0., 0., 0., 0., 0.,\n",
       "           0., 0., 0., 0., 0.]],\n",
       " \n",
       "         [[0., 0., 0., 0., 0., 0., 0., 0., 0., 0., 0., 0., 0., 0., 0., 0., 0.,\n",
       "           0., 0., 0., 1., 0., 0., 0., 0., 0., 0., 0., 0., 0., 0., 0., 0., 0.,\n",
       "           0., 0., 0., 0., 0., 0., 0., 0., 0., 0., 0., 0., 0., 0., 0., 0., 0.,\n",
       "           0., 0., 0., 0., 0.]],\n",
       " \n",
       "         [[0., 0., 0., 0., 0., 0., 0., 0., 0., 0., 0., 1., 0., 0., 0., 0., 0.,\n",
       "           0., 0., 0., 0., 0., 0., 0., 0., 0., 0., 0., 0., 0., 0., 0., 0., 0.,\n",
       "           0., 0., 0., 0., 0., 0., 0., 0., 0., 0., 0., 0., 0., 0., 0., 0., 0.,\n",
       "           0., 0., 0., 0., 0.]],\n",
       " \n",
       "         [[0., 0., 0., 0., 0., 0., 0., 0., 0., 0., 1., 0., 0., 0., 0., 0., 0.,\n",
       "           0., 0., 0., 0., 0., 0., 0., 0., 0., 0., 0., 0., 0., 0., 0., 0., 0.,\n",
       "           0., 0., 0., 0., 0., 0., 0., 0., 0., 0., 0., 0., 0., 0., 0., 0., 0.,\n",
       "           0., 0., 0., 0., 0.]],\n",
       " \n",
       "         [[1., 0., 0., 0., 0., 0., 0., 0., 0., 0., 0., 0., 0., 0., 0., 0., 0.,\n",
       "           0., 0., 0., 0., 0., 0., 0., 0., 0., 0., 0., 0., 0., 0., 0., 0., 0.,\n",
       "           0., 0., 0., 0., 0., 0., 0., 0., 0., 0., 0., 0., 0., 0., 0., 0., 0.,\n",
       "           0., 0., 0., 0., 0.]]]),\n",
       " tensor([14, 12, 20, 11, 10,  0, 55]))"
      ]
     },
     "execution_count": 36,
     "metadata": {},
     "output_type": "execute_result"
    }
   ],
   "source": [
    "random_training_example()"
   ]
  },
  {
   "cell_type": "code",
   "execution_count": 37,
   "metadata": {},
   "outputs": [],
   "source": [
    "criterion = nn.NLLLoss()\n",
    "\n",
    "learning_rate = 0.0005"
   ]
  },
  {
   "cell_type": "code",
   "execution_count": 38,
   "metadata": {},
   "outputs": [],
   "source": [
    "def train(language_tensor, input_name, target_name_tensor):\n",
    "    \n",
    "    target_name_tensor.unsqueeze_(-1)\n",
    "    \n",
    "    hidden = rnn.initHidden()\n",
    "    \n",
    "    rnn.zero_grad()\n",
    "    \n",
    "    loss = 0\n",
    "    \n",
    "    for i in range(input_name_tensor.size(0)):\n",
    "        \n",
    "        output, hidden = rnn(language_tensor, input_name_tensor[i], hidden)\n",
    "        \n",
    "        l = criterion(output, target_name_tensor[i])\n",
    "        \n",
    "        loss += l\n",
    "        \n",
    "    loss.backward()\n",
    "    \n",
    "    for p in rnn.parameters():\n",
    "        p.data.add_(-learning_rate, p.grad.data)\n",
    "        \n",
    "    return output, loss.item() / input_name_tensor.size(0)"
   ]
  },
  {
   "cell_type": "code",
   "execution_count": 39,
   "metadata": {},
   "outputs": [],
   "source": [
    "n_iters = 200000\n",
    "current_loss = 0\n",
    "all_losses = []"
   ]
  },
  {
   "cell_type": "code",
   "execution_count": 40,
   "metadata": {},
   "outputs": [
    {
     "name": "stdout",
     "output_type": "stream",
     "text": [
      "(500 0%) 3.8494\n",
      "(1000 0%) 3.8411\n",
      "(1500 0%) 2.8343\n",
      "(2000 1%) 3.3232\n",
      "(2500 1%) 2.8422\n",
      "(3000 1%) 2.8854\n",
      "(3500 1%) 3.1747\n",
      "(4000 2%) 3.2172\n",
      "(4500 2%) 3.2271\n",
      "(5000 2%) 2.7758\n",
      "(5500 2%) 3.4571\n",
      "(6000 3%) 2.7831\n",
      "(6500 3%) 3.2079\n",
      "(7000 3%) 2.7825\n",
      "(7500 3%) 3.3228\n",
      "(8000 4%) 3.0525\n",
      "(8500 4%) 2.4416\n",
      "(9000 4%) 2.8334\n",
      "(9500 4%) 2.6152\n",
      "(10000 5%) 3.1138\n",
      "(10500 5%) 2.2153\n",
      "(11000 5%) 2.8472\n",
      "(11500 5%) 2.5836\n",
      "(12000 6%) 3.2102\n",
      "(12500 6%) 2.8964\n",
      "(13000 6%) 3.4546\n",
      "(13500 6%) 3.1487\n",
      "(14000 7%) 2.9828\n",
      "(14500 7%) 2.7322\n",
      "(15000 7%) 3.0589\n",
      "(15500 7%) 2.5077\n",
      "(16000 8%) 3.0269\n",
      "(16500 8%) 2.6722\n",
      "(17000 8%) 2.5266\n",
      "(17500 8%) 2.6499\n",
      "(18000 9%) 2.7612\n",
      "(18500 9%) 2.8138\n",
      "(19000 9%) 2.5752\n",
      "(19500 9%) 3.4138\n",
      "(20000 10%) 1.4369\n",
      "(20500 10%) 2.7384\n",
      "(21000 10%) 2.5257\n",
      "(21500 10%) 2.9776\n",
      "(22000 11%) 2.9074\n",
      "(22500 11%) 2.5167\n",
      "(23000 11%) 2.5865\n",
      "(23500 11%) 2.2621\n",
      "(24000 12%) 2.8800\n",
      "(24500 12%) 3.2396\n",
      "(25000 12%) 2.8428\n",
      "(25500 12%) 2.2098\n",
      "(26000 13%) 2.5260\n",
      "(26500 13%) 2.7889\n",
      "(27000 13%) 2.4364\n",
      "(27500 13%) 3.3267\n",
      "(28000 14%) 2.9084\n",
      "(28500 14%) 3.0508\n",
      "(29000 14%) 3.5422\n",
      "(29500 14%) 2.3535\n",
      "(30000 15%) 2.5784\n",
      "(30500 15%) 3.1368\n",
      "(31000 15%) 2.3168\n",
      "(31500 15%) 2.6901\n",
      "(32000 16%) 3.1653\n",
      "(32500 16%) 2.4218\n",
      "(33000 16%) 2.3577\n",
      "(33500 16%) 2.5717\n",
      "(34000 17%) 3.4371\n",
      "(34500 17%) 2.4727\n",
      "(35000 17%) 2.7578\n",
      "(35500 17%) 2.8301\n",
      "(36000 18%) 2.0664\n",
      "(36500 18%) 1.6118\n",
      "(37000 18%) 3.3461\n",
      "(37500 18%) 2.4397\n",
      "(38000 19%) 2.7119\n",
      "(38500 19%) 1.9109\n",
      "(39000 19%) 2.8901\n",
      "(39500 19%) 2.8424\n",
      "(40000 20%) 2.7977\n",
      "(40500 20%) 2.1600\n",
      "(41000 20%) 2.3779\n",
      "(41500 20%) 1.5436\n",
      "(42000 21%) 2.7635\n",
      "(42500 21%) 1.7127\n",
      "(43000 21%) 2.9042\n",
      "(43500 21%) 2.6130\n",
      "(44000 22%) 2.2635\n",
      "(44500 22%) 2.5709\n",
      "(45000 22%) 2.2317\n",
      "(45500 22%) 2.7173\n",
      "(46000 23%) 2.9994\n",
      "(46500 23%) 2.2210\n",
      "(47000 23%) 2.4052\n",
      "(47500 23%) 2.9541\n",
      "(48000 24%) 1.1891\n",
      "(48500 24%) 3.0823\n",
      "(49000 24%) 3.2021\n",
      "(49500 24%) 2.2955\n",
      "(50000 25%) 1.8228\n",
      "(50500 25%) 3.1957\n",
      "(51000 25%) 2.6799\n",
      "(51500 25%) 2.5844\n",
      "(52000 26%) 3.5447\n",
      "(52500 26%) 2.9048\n",
      "(53000 26%) 1.4862\n",
      "(53500 26%) 2.7788\n",
      "(54000 27%) 2.7185\n",
      "(54500 27%) 1.9242\n",
      "(55000 27%) 1.3821\n",
      "(55500 27%) 2.8001\n",
      "(56000 28%) 2.4130\n",
      "(56500 28%) 3.0730\n",
      "(57000 28%) 1.7191\n",
      "(57500 28%) 2.0123\n",
      "(58000 28%) 1.9944\n",
      "(58500 29%) 2.3711\n",
      "(59000 29%) 2.8586\n",
      "(59500 29%) 3.0993\n",
      "(60000 30%) 2.5063\n",
      "(60500 30%) 1.7689\n",
      "(61000 30%) 2.2987\n",
      "(61500 30%) 1.5914\n",
      "(62000 31%) 3.2967\n",
      "(62500 31%) 1.5928\n",
      "(63000 31%) 2.0841\n",
      "(63500 31%) 1.6049\n",
      "(64000 32%) 2.3716\n",
      "(64500 32%) 2.3255\n",
      "(65000 32%) 2.6602\n",
      "(65500 32%) 2.2746\n",
      "(66000 33%) 2.1325\n",
      "(66500 33%) 1.5711\n",
      "(67000 33%) 2.4847\n",
      "(67500 33%) 1.1705\n",
      "(68000 34%) 2.5255\n",
      "(68500 34%) 2.8596\n",
      "(69000 34%) 2.6575\n",
      "(69500 34%) 2.2491\n",
      "(70000 35%) 2.3396\n",
      "(70500 35%) 3.0588\n",
      "(71000 35%) 1.9886\n",
      "(71500 35%) 2.2321\n",
      "(72000 36%) 1.8243\n",
      "(72500 36%) 3.0023\n",
      "(73000 36%) 3.1727\n",
      "(73500 36%) 3.1778\n",
      "(74000 37%) 1.6385\n",
      "(74500 37%) 1.7905\n",
      "(75000 37%) 2.4745\n",
      "(75500 37%) 2.4106\n",
      "(76000 38%) 2.5677\n",
      "(76500 38%) 2.9142\n",
      "(77000 38%) 2.2594\n",
      "(77500 38%) 2.5308\n",
      "(78000 39%) 2.9087\n",
      "(78500 39%) 2.4370\n",
      "(79000 39%) 2.4880\n",
      "(79500 39%) 2.9815\n",
      "(80000 40%) 2.3464\n",
      "(80500 40%) 2.6484\n",
      "(81000 40%) 2.1478\n",
      "(81500 40%) 2.3188\n",
      "(82000 41%) 3.1081\n",
      "(82500 41%) 1.9122\n",
      "(83000 41%) 2.4552\n",
      "(83500 41%) 2.0088\n",
      "(84000 42%) 2.3285\n",
      "(84500 42%) 2.2708\n",
      "(85000 42%) 2.2641\n",
      "(85500 42%) 2.1329\n",
      "(86000 43%) 2.8260\n",
      "(86500 43%) 3.1122\n",
      "(87000 43%) 2.8132\n",
      "(87500 43%) 3.2257\n",
      "(88000 44%) 2.6374\n",
      "(88500 44%) 2.0914\n",
      "(89000 44%) 2.4576\n",
      "(89500 44%) 2.4482\n",
      "(90000 45%) 3.2906\n",
      "(90500 45%) 2.5696\n",
      "(91000 45%) 2.1190\n",
      "(91500 45%) 2.8774\n",
      "(92000 46%) 2.6751\n",
      "(92500 46%) 1.7257\n",
      "(93000 46%) 2.7120\n",
      "(93500 46%) 3.3782\n",
      "(94000 47%) 2.1280\n",
      "(94500 47%) 2.6103\n",
      "(95000 47%) 2.2627\n",
      "(95500 47%) 2.6302\n",
      "(96000 48%) 2.9513\n",
      "(96500 48%) 2.7665\n",
      "(97000 48%) 2.7572\n",
      "(97500 48%) 2.8624\n",
      "(98000 49%) 1.7658\n",
      "(98500 49%) 2.5532\n",
      "(99000 49%) 3.1920\n",
      "(99500 49%) 2.5001\n",
      "(100000 50%) 2.4122\n",
      "(100500 50%) 3.0100\n",
      "(101000 50%) 3.1056\n",
      "(101500 50%) 1.9605\n",
      "(102000 51%) 2.1255\n",
      "(102500 51%) 2.8724\n",
      "(103000 51%) 2.2400\n",
      "(103500 51%) 1.9676\n",
      "(104000 52%) 1.6980\n",
      "(104500 52%) 2.6496\n",
      "(105000 52%) 2.5697\n",
      "(105500 52%) 3.0429\n",
      "(106000 53%) 3.4800\n",
      "(106500 53%) 3.0097\n",
      "(107000 53%) 2.1405\n",
      "(107500 53%) 2.1049\n",
      "(108000 54%) 2.3654\n",
      "(108500 54%) 1.1275\n",
      "(109000 54%) 2.1889\n",
      "(109500 54%) 2.5271\n",
      "(110000 55%) 3.1729\n",
      "(110500 55%) 1.8776\n",
      "(111000 55%) 2.3164\n",
      "(111500 55%) 2.1958\n",
      "(112000 56%) 2.6712\n",
      "(112500 56%) 2.5387\n",
      "(113000 56%) 2.7116\n",
      "(113500 56%) 2.5317\n",
      "(114000 56%) 2.3324\n",
      "(114500 57%) 2.0754\n",
      "(115000 57%) 2.2087\n",
      "(115500 57%) 2.1744\n",
      "(116000 57%) 2.5576\n",
      "(116500 58%) 1.9436\n",
      "(117000 58%) 2.5861\n",
      "(117500 58%) 3.3847\n",
      "(118000 59%) 2.8760\n",
      "(118500 59%) 2.8045\n",
      "(119000 59%) 2.2712\n",
      "(119500 59%) 2.9409\n",
      "(120000 60%) 2.5685\n",
      "(120500 60%) 2.6632\n",
      "(121000 60%) 1.7736\n",
      "(121500 60%) 2.2903\n",
      "(122000 61%) 2.7335\n",
      "(122500 61%) 2.5841\n",
      "(123000 61%) 2.6311\n",
      "(123500 61%) 1.2440\n",
      "(124000 62%) 3.6317\n",
      "(124500 62%) 1.9790\n",
      "(125000 62%) 2.7950\n",
      "(125500 62%) 1.9708\n",
      "(126000 63%) 3.5452\n",
      "(126500 63%) 3.0927\n",
      "(127000 63%) 2.5830\n",
      "(127500 63%) 1.6877\n",
      "(128000 64%) 3.4690\n",
      "(128500 64%) 1.0560\n",
      "(129000 64%) 2.8056\n",
      "(129500 64%) 2.6731\n",
      "(130000 65%) 2.3234\n",
      "(130500 65%) 1.5021\n",
      "(131000 65%) 3.0581\n",
      "(131500 65%) 2.2676\n",
      "(132000 66%) 2.3248\n",
      "(132500 66%) 1.4592\n",
      "(133000 66%) 2.3301\n",
      "(133500 66%) 2.4665\n",
      "(134000 67%) 2.5060\n",
      "(134500 67%) 2.0001\n",
      "(135000 67%) 2.3886\n",
      "(135500 67%) 2.3941\n",
      "(136000 68%) 2.9546\n",
      "(136500 68%) 3.1601\n",
      "(137000 68%) 2.3684\n",
      "(137500 68%) 1.8460\n",
      "(138000 69%) 2.3038\n",
      "(138500 69%) 3.0468\n",
      "(139000 69%) 1.4299\n",
      "(139500 69%) 3.4334\n",
      "(140000 70%) 2.5325\n",
      "(140500 70%) 2.8788\n",
      "(141000 70%) 2.7385\n",
      "(141500 70%) 2.8353\n",
      "(142000 71%) 2.3910\n",
      "(142500 71%) 3.0660\n",
      "(143000 71%) 2.3312\n",
      "(143500 71%) 2.7904\n",
      "(144000 72%) 1.2894\n",
      "(144500 72%) 2.2288\n",
      "(145000 72%) 2.0940\n",
      "(145500 72%) 2.9098\n",
      "(146000 73%) 3.1618\n",
      "(146500 73%) 3.1206\n",
      "(147000 73%) 2.2314\n",
      "(147500 73%) 2.6180\n",
      "(148000 74%) 2.5275\n",
      "(148500 74%) 2.8344\n",
      "(149000 74%) 2.9463\n",
      "(149500 74%) 2.4173\n",
      "(150000 75%) 2.0950\n",
      "(150500 75%) 2.5103\n",
      "(151000 75%) 2.9587\n",
      "(151500 75%) 2.4534\n",
      "(152000 76%) 3.3599\n",
      "(152500 76%) 1.4712\n",
      "(153000 76%) 2.7776\n",
      "(153500 76%) 1.7529\n",
      "(154000 77%) 3.0000\n",
      "(154500 77%) 2.7980\n",
      "(155000 77%) 2.5068\n",
      "(155500 77%) 2.1311\n",
      "(156000 78%) 2.3935\n",
      "(156500 78%) 2.1507\n",
      "(157000 78%) 1.4481\n",
      "(157500 78%) 1.5033\n",
      "(158000 79%) 2.6428\n",
      "(158500 79%) 2.3614\n",
      "(159000 79%) 2.4677\n",
      "(159500 79%) 1.8539\n",
      "(160000 80%) 3.2286\n",
      "(160500 80%) 2.1010\n",
      "(161000 80%) 1.6938\n",
      "(161500 80%) 2.0807\n",
      "(162000 81%) 1.3963\n",
      "(162500 81%) 2.5556\n",
      "(163000 81%) 2.4957\n",
      "(163500 81%) 2.5901\n",
      "(164000 82%) 2.7307\n",
      "(164500 82%) 1.7661\n",
      "(165000 82%) 2.3342\n",
      "(165500 82%) 3.6088\n",
      "(166000 83%) 1.1546\n",
      "(166500 83%) 1.9717\n",
      "(167000 83%) 1.9877\n",
      "(167500 83%) 2.3543\n",
      "(168000 84%) 1.9572\n",
      "(168500 84%) 2.0805\n",
      "(169000 84%) 1.5775\n",
      "(169500 84%) 2.6983\n",
      "(170000 85%) 1.7702\n",
      "(170500 85%) 2.4168\n",
      "(171000 85%) 2.6691\n",
      "(171500 85%) 3.3737\n",
      "(172000 86%) 2.4668\n",
      "(172500 86%) 2.4940\n",
      "(173000 86%) 2.2609\n",
      "(173500 86%) 1.9910\n",
      "(174000 87%) 2.7122\n",
      "(174500 87%) 2.7643\n",
      "(175000 87%) 2.4846\n",
      "(175500 87%) 3.4290\n",
      "(176000 88%) 1.9208\n",
      "(176500 88%) 1.4717\n",
      "(177000 88%) 1.8311\n",
      "(177500 88%) 2.5088\n",
      "(178000 89%) 3.2449\n",
      "(178500 89%) 3.0190\n",
      "(179000 89%) 2.7737\n",
      "(179500 89%) 2.6149\n",
      "(180000 90%) 2.8386\n",
      "(180500 90%) 2.8402\n",
      "(181000 90%) 3.0395\n",
      "(181500 90%) 2.3688\n",
      "(182000 91%) 1.4602\n",
      "(182500 91%) 3.0491\n",
      "(183000 91%) 2.8339\n",
      "(183500 91%) 2.6498\n",
      "(184000 92%) 2.5978\n",
      "(184500 92%) 2.6162\n",
      "(185000 92%) 2.6213\n",
      "(185500 92%) 2.4531\n",
      "(186000 93%) 2.3988\n",
      "(186500 93%) 2.0157\n",
      "(187000 93%) 1.8680\n",
      "(187500 93%) 2.3807\n",
      "(188000 94%) 2.7172\n",
      "(188500 94%) 2.2351\n",
      "(189000 94%) 2.0075\n",
      "(189500 94%) 3.5961\n",
      "(190000 95%) 2.0794\n",
      "(190500 95%) 2.7844\n",
      "(191000 95%) 2.8234\n",
      "(191500 95%) 1.8488\n",
      "(192000 96%) 1.0190\n",
      "(192500 96%) 2.6387\n",
      "(193000 96%) 1.9376\n",
      "(193500 96%) 2.7327\n",
      "(194000 97%) 2.0864\n",
      "(194500 97%) 2.8715\n",
      "(195000 97%) 1.6806\n",
      "(195500 97%) 1.9755\n",
      "(196000 98%) 2.8738\n",
      "(196500 98%) 2.0635\n",
      "(197000 98%) 1.8289\n",
      "(197500 98%) 2.9057\n",
      "(198000 99%) 2.8794\n",
      "(198500 99%) 1.8541\n",
      "(199000 99%) 3.0257\n",
      "(199500 99%) 2.3817\n",
      "(200000 100%) 2.6346\n"
     ]
    }
   ],
   "source": [
    "for iteration in range(1, n_iters + 1):\n",
    "    \n",
    "    language_tensor, input_name_tensor, target_name_tensor = random_training_example()\n",
    "    \n",
    "    output, loss = train(language_tensor, input_name_tensor, target_name_tensor)\n",
    "    current_loss += loss\n",
    "    \n",
    "    if iteration % 500 == 0:\n",
    "        print('(%d %d%%) %.4f' % (iteration, iteration / n_iters * 100, loss))\n",
    "    \n",
    "    if iteration % 1000 == 0:\n",
    "        all_losses.append(current_loss / 1000)\n",
    "        current_loss = 0"
   ]
  },
  {
   "cell_type": "code",
   "execution_count": 41,
   "metadata": {},
   "outputs": [
    {
     "data": {
      "text/plain": [
       "[<matplotlib.lines.Line2D at 0x221e75c7f48>]"
      ]
     },
     "execution_count": 41,
     "metadata": {},
     "output_type": "execute_result"
    },
    {
     "data": {
      "image/png": "[encoded data removed]",
      "text/plain": [
       "<Figure size 432x288 with 1 Axes>"
      ]
     },
     "metadata": {
      "needs_background": "light"
     },
     "output_type": "display_data"
    }
   ],
   "source": [
    "plt.figure()\n",
    "plt.plot(all_losses)"
   ]
  },
  {
   "cell_type": "code",
   "execution_count": 42,
   "metadata": {},
   "outputs": [],
   "source": [
    "MAX_LENGTH = 12\n",
    "\n",
    "def sample(language, start_letter='A'):\n",
    "    \n",
    "    rnn.eval()\n",
    "    \n",
    "    with torch.no_grad():\n",
    "        language_tensor = language_to_tensor(language)\n",
    "        \n",
    "        input_t = input_name_to_tensor(start_letter)\n",
    "        hidden = rnn.initHidden()\n",
    "        \n",
    "        output_name = start_letter\n",
    "        \n",
    "        for i in range(MAX_LENGTH):\n",
    "            \n",
    "            output, hidden = rnn(language_tensor, input_t[0], hidden)\n",
    "            \n",
    "            letter = letter_from_output(output)[0]\n",
    "            \n",
    "            if letter == EOS:\n",
    "                break\n",
    "            else:\n",
    "                output_name += letter\n",
    "                \n",
    "            input_t = input_name_to_tensor(letter)\n",
    "        \n",
    "        return output_name"
   ]
  },
  {
   "cell_type": "code",
   "execution_count": 43,
   "metadata": {},
   "outputs": [
    {
     "data": {
      "text/plain": [
       "'Ballen'"
      ]
     },
     "execution_count": 43,
     "metadata": {},
     "output_type": "execute_result"
    }
   ],
   "source": [
    "sample('English', 'B')"
   ]
  },
  {
   "cell_type": "code",
   "execution_count": 44,
   "metadata": {},
   "outputs": [
    {
     "data": {
      "text/plain": [
       "'Erten'"
      ]
     },
     "execution_count": 44,
     "metadata": {},
     "output_type": "execute_result"
    }
   ],
   "source": [
    "sample('English', 'E')"
   ]
  },
  {
   "cell_type": "code",
   "execution_count": 45,
   "metadata": {},
   "outputs": [
    {
     "data": {
      "text/plain": [
       "'Alara'"
      ]
     },
     "execution_count": 45,
     "metadata": {},
     "output_type": "execute_result"
    }
   ],
   "source": [
    "sample('Spanish', 'A')"
   ]
  },
  {
   "cell_type": "code",
   "execution_count": 46,
   "metadata": {},
   "outputs": [
    {
     "data": {
      "text/plain": [
       "\"O'kouven\""
      ]
     },
     "execution_count": 46,
     "metadata": {},
     "output_type": "execute_result"
    }
   ],
   "source": [
    "sample('Russian', 'O')"
   ]
  },
  {
   "cell_type": "code",
   "execution_count": 47,
   "metadata": {},
   "outputs": [
    {
     "data": {
      "text/plain": [
       "'Vandan'"
      ]
     },
     "execution_count": 47,
     "metadata": {},
     "output_type": "execute_result"
    }
   ],
   "source": [
    "sample('Russian', 'V')"
   ]
  },
  {
   "cell_type": "code",
   "execution_count": 48,
   "metadata": {},
   "outputs": [
    {
     "data": {
      "text/plain": [
       "'Chan'"
      ]
     },
     "execution_count": 48,
     "metadata": {},
     "output_type": "execute_result"
    }
   ],
   "source": [
    "sample('Chinese', 'C')"
   ]
  },
  {
   "cell_type": "code",
   "execution_count": 49,
   "metadata": {},
   "outputs": [
    {
     "data": {
      "text/plain": [
       "'Sho'"
      ]
     },
     "execution_count": 49,
     "metadata": {},
     "output_type": "execute_result"
    }
   ],
   "source": [
    "sample('Korean', 'S')"
   ]
  },
  {
   "cell_type": "code",
   "execution_count": 50,
   "metadata": {},
   "outputs": [
    {
     "data": {
      "text/plain": [
       "'Saka'"
      ]
     },
     "execution_count": 50,
     "metadata": {},
     "output_type": "execute_result"
    }
   ],
   "source": [
    "sample('Japanese', 'S')"
   ]
  }
 ],
 "metadata": {
  "kernelspec": {
   "display_name": "Python 3",
   "language": "python",
   "name": "python3"
  },
  "language_info": {
   "codemirror_mode": {
    "name": "ipython",
    "version": 3
   },
   "file_extension": ".py",
   "mimetype": "text/x-python",
   "name": "python",
   "nbconvert_exporter": "python",
   "pygments_lexer": "ipython3",
   "version": "3.7.6"
  }
 },
 "nbformat": 4,
 "nbformat_minor": 4
}
