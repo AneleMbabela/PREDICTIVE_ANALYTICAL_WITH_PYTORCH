{
 "cells": [
  {
   "cell_type": "markdown",
   "metadata": {},
   "source": [
    "# Regression"
   ]
  },
  {
   "cell_type": "code",
   "execution_count": 4,
   "metadata": {},
   "outputs": [],
   "source": [
    "import torch\n",
    "import torch.utils.data as data_utils\n",
    "\n",
    "import numpy as np\n",
    "import pandas as pd\n",
    "import matplotlib.pyplot as plt\n",
    "import seaborn as sns\n",
    "\n",
    "from sklearn.model_selection import train_test_split\n",
    "from sklearn.metrics import r2_score\n",
    "from sklearn.preprocessing import StandardScaler"
   ]
  },
  {
   "cell_type": "markdown",
   "metadata": {},
   "source": [
    "## Loading dataset"
   ]
  },
  {
   "cell_type": "code",
   "execution_count": 5,
   "metadata": {},
   "outputs": [
    {
     "data": {
      "text/html": [
       "<div>\n",
       "<style scoped>\n",
       "    .dataframe tbody tr th:only-of-type {\n",
       "        vertical-align: middle;\n",
       "    }\n",
       "\n",
       "    .dataframe tbody tr th {\n",
       "        vertical-align: top;\n",
       "    }\n",
       "\n",
       "    .dataframe thead th {\n",
       "        text-align: right;\n",
       "    }\n",
       "</style>\n",
       "<table border=\"1\" class=\"dataframe\">\n",
       "  <thead>\n",
       "    <tr style=\"text-align: right;\">\n",
       "      <th></th>\n",
       "      <th>carat</th>\n",
       "      <th>cut</th>\n",
       "      <th>color</th>\n",
       "      <th>clarity</th>\n",
       "      <th>depth</th>\n",
       "      <th>table</th>\n",
       "      <th>price</th>\n",
       "      <th>x</th>\n",
       "      <th>y</th>\n",
       "      <th>z</th>\n",
       "    </tr>\n",
       "  </thead>\n",
       "  <tbody>\n",
       "    <tr>\n",
       "      <th>1</th>\n",
       "      <td>0.23</td>\n",
       "      <td>Ideal</td>\n",
       "      <td>E</td>\n",
       "      <td>SI2</td>\n",
       "      <td>61.5</td>\n",
       "      <td>55.0</td>\n",
       "      <td>326</td>\n",
       "      <td>3.95</td>\n",
       "      <td>3.98</td>\n",
       "      <td>2.43</td>\n",
       "    </tr>\n",
       "    <tr>\n",
       "      <th>2</th>\n",
       "      <td>0.21</td>\n",
       "      <td>Premium</td>\n",
       "      <td>E</td>\n",
       "      <td>SI1</td>\n",
       "      <td>59.8</td>\n",
       "      <td>61.0</td>\n",
       "      <td>326</td>\n",
       "      <td>3.89</td>\n",
       "      <td>3.84</td>\n",
       "      <td>2.31</td>\n",
       "    </tr>\n",
       "    <tr>\n",
       "      <th>3</th>\n",
       "      <td>0.23</td>\n",
       "      <td>Good</td>\n",
       "      <td>E</td>\n",
       "      <td>VS1</td>\n",
       "      <td>56.9</td>\n",
       "      <td>65.0</td>\n",
       "      <td>327</td>\n",
       "      <td>4.05</td>\n",
       "      <td>4.07</td>\n",
       "      <td>2.31</td>\n",
       "    </tr>\n",
       "    <tr>\n",
       "      <th>4</th>\n",
       "      <td>0.29</td>\n",
       "      <td>Premium</td>\n",
       "      <td>I</td>\n",
       "      <td>VS2</td>\n",
       "      <td>62.4</td>\n",
       "      <td>58.0</td>\n",
       "      <td>334</td>\n",
       "      <td>4.20</td>\n",
       "      <td>4.23</td>\n",
       "      <td>2.63</td>\n",
       "    </tr>\n",
       "    <tr>\n",
       "      <th>5</th>\n",
       "      <td>0.31</td>\n",
       "      <td>Good</td>\n",
       "      <td>J</td>\n",
       "      <td>SI2</td>\n",
       "      <td>63.3</td>\n",
       "      <td>58.0</td>\n",
       "      <td>335</td>\n",
       "      <td>4.34</td>\n",
       "      <td>4.35</td>\n",
       "      <td>2.75</td>\n",
       "    </tr>\n",
       "    <tr>\n",
       "      <th>6</th>\n",
       "      <td>0.24</td>\n",
       "      <td>Very Good</td>\n",
       "      <td>J</td>\n",
       "      <td>VVS2</td>\n",
       "      <td>62.8</td>\n",
       "      <td>57.0</td>\n",
       "      <td>336</td>\n",
       "      <td>3.94</td>\n",
       "      <td>3.96</td>\n",
       "      <td>2.48</td>\n",
       "    </tr>\n",
       "    <tr>\n",
       "      <th>7</th>\n",
       "      <td>0.24</td>\n",
       "      <td>Very Good</td>\n",
       "      <td>I</td>\n",
       "      <td>VVS1</td>\n",
       "      <td>62.3</td>\n",
       "      <td>57.0</td>\n",
       "      <td>336</td>\n",
       "      <td>3.95</td>\n",
       "      <td>3.98</td>\n",
       "      <td>2.47</td>\n",
       "    </tr>\n",
       "    <tr>\n",
       "      <th>8</th>\n",
       "      <td>0.26</td>\n",
       "      <td>Very Good</td>\n",
       "      <td>H</td>\n",
       "      <td>SI1</td>\n",
       "      <td>61.9</td>\n",
       "      <td>55.0</td>\n",
       "      <td>337</td>\n",
       "      <td>4.07</td>\n",
       "      <td>4.11</td>\n",
       "      <td>2.53</td>\n",
       "    </tr>\n",
       "    <tr>\n",
       "      <th>9</th>\n",
       "      <td>0.22</td>\n",
       "      <td>Fair</td>\n",
       "      <td>E</td>\n",
       "      <td>VS2</td>\n",
       "      <td>65.1</td>\n",
       "      <td>61.0</td>\n",
       "      <td>337</td>\n",
       "      <td>3.87</td>\n",
       "      <td>3.78</td>\n",
       "      <td>2.49</td>\n",
       "    </tr>\n",
       "    <tr>\n",
       "      <th>10</th>\n",
       "      <td>0.23</td>\n",
       "      <td>Very Good</td>\n",
       "      <td>H</td>\n",
       "      <td>VS1</td>\n",
       "      <td>59.4</td>\n",
       "      <td>61.0</td>\n",
       "      <td>338</td>\n",
       "      <td>4.00</td>\n",
       "      <td>4.05</td>\n",
       "      <td>2.39</td>\n",
       "    </tr>\n",
       "  </tbody>\n",
       "</table>\n",
       "</div>"
      ],
      "text/plain": [
       "    carat        cut color clarity  depth  table  price     x     y     z\n",
       "1    0.23      Ideal     E     SI2   61.5   55.0    326  3.95  3.98  2.43\n",
       "2    0.21    Premium     E     SI1   59.8   61.0    326  3.89  3.84  2.31\n",
       "3    0.23       Good     E     VS1   56.9   65.0    327  4.05  4.07  2.31\n",
       "4    0.29    Premium     I     VS2   62.4   58.0    334  4.20  4.23  2.63\n",
       "5    0.31       Good     J     SI2   63.3   58.0    335  4.34  4.35  2.75\n",
       "6    0.24  Very Good     J    VVS2   62.8   57.0    336  3.94  3.96  2.48\n",
       "7    0.24  Very Good     I    VVS1   62.3   57.0    336  3.95  3.98  2.47\n",
       "8    0.26  Very Good     H     SI1   61.9   55.0    337  4.07  4.11  2.53\n",
       "9    0.22       Fair     E     VS2   65.1   61.0    337  3.87  3.78  2.49\n",
       "10   0.23  Very Good     H     VS1   59.4   61.0    338  4.00  4.05  2.39"
      ]
     },
     "execution_count": 5,
     "metadata": {},
     "output_type": "execute_result"
    }
   ],
   "source": [
    "diamonds_data = pd.read_csv('datasets/diamonds.csv', index_col=0)\n",
    "\n",
    "diamonds_data.head(10)"
   ]
  },
  {
   "cell_type": "code",
   "execution_count": 6,
   "metadata": {},
   "outputs": [
    {
     "data": {
      "text/plain": [
       "(53940, 10)"
      ]
     },
     "execution_count": 6,
     "metadata": {},
     "output_type": "execute_result"
    }
   ],
   "source": [
    "diamonds_data.shape"
   ]
  },
  {
   "cell_type": "code",
   "execution_count": 7,
   "metadata": {},
   "outputs": [],
   "source": [
    "diamonds_data = diamonds_data.sample(5000, replace=False)"
   ]
  },
  {
   "cell_type": "code",
   "execution_count": 8,
   "metadata": {},
   "outputs": [
    {
     "data": {
      "text/plain": [
       "Ideal        2019\n",
       "Premium      1274\n",
       "Very Good    1110\n",
       "Good          436\n",
       "Fair          161\n",
       "Name: cut, dtype: int64"
      ]
     },
     "execution_count": 8,
     "metadata": {},
     "output_type": "execute_result"
    }
   ],
   "source": [
    "diamonds_data['cut'].value_counts()"
   ]
  },
  {
   "cell_type": "code",
   "execution_count": 9,
   "metadata": {},
   "outputs": [
    {
     "data": {
      "text/plain": [
       "G    1057\n",
       "F     884\n",
       "E     874\n",
       "H     780\n",
       "D     627\n",
       "I     513\n",
       "J     265\n",
       "Name: color, dtype: int64"
      ]
     },
     "execution_count": 9,
     "metadata": {},
     "output_type": "execute_result"
    }
   ],
   "source": [
    "diamonds_data['color'].value_counts()"
   ]
  },
  {
   "cell_type": "code",
   "execution_count": 10,
   "metadata": {},
   "outputs": [
    {
     "data": {
      "text/plain": [
       "SI1     1178\n",
       "VS2     1140\n",
       "SI2      874\n",
       "VS1      759\n",
       "VVS2     473\n",
       "VVS1     346\n",
       "IF       169\n",
       "I1        61\n",
       "Name: clarity, dtype: int64"
      ]
     },
     "execution_count": 10,
     "metadata": {},
     "output_type": "execute_result"
    }
   ],
   "source": [
    "diamonds_data['clarity'].value_counts()"
   ]
  },
  {
   "cell_type": "code",
   "execution_count": 11,
   "metadata": {},
   "outputs": [
    {
     "data": {
      "text/html": [
       "<div>\n",
       "<style scoped>\n",
       "    .dataframe tbody tr th:only-of-type {\n",
       "        vertical-align: middle;\n",
       "    }\n",
       "\n",
       "    .dataframe tbody tr th {\n",
       "        vertical-align: top;\n",
       "    }\n",
       "\n",
       "    .dataframe thead th {\n",
       "        text-align: right;\n",
       "    }\n",
       "</style>\n",
       "<table border=\"1\" class=\"dataframe\">\n",
       "  <thead>\n",
       "    <tr style=\"text-align: right;\">\n",
       "      <th></th>\n",
       "      <th>carat</th>\n",
       "      <th>depth</th>\n",
       "      <th>table</th>\n",
       "      <th>price</th>\n",
       "      <th>x</th>\n",
       "      <th>y</th>\n",
       "      <th>z</th>\n",
       "    </tr>\n",
       "  </thead>\n",
       "  <tbody>\n",
       "    <tr>\n",
       "      <th>count</th>\n",
       "      <td>5000.000000</td>\n",
       "      <td>5000.000000</td>\n",
       "      <td>5000.000000</td>\n",
       "      <td>5000.000000</td>\n",
       "      <td>5000.000000</td>\n",
       "      <td>5000.000000</td>\n",
       "      <td>5000.000000</td>\n",
       "    </tr>\n",
       "    <tr>\n",
       "      <th>mean</th>\n",
       "      <td>0.795696</td>\n",
       "      <td>61.762480</td>\n",
       "      <td>57.481260</td>\n",
       "      <td>3882.636400</td>\n",
       "      <td>5.725778</td>\n",
       "      <td>5.727192</td>\n",
       "      <td>3.540418</td>\n",
       "    </tr>\n",
       "    <tr>\n",
       "      <th>std</th>\n",
       "      <td>0.476678</td>\n",
       "      <td>1.422017</td>\n",
       "      <td>2.233244</td>\n",
       "      <td>3935.768059</td>\n",
       "      <td>1.117880</td>\n",
       "      <td>1.109586</td>\n",
       "      <td>0.800370</td>\n",
       "    </tr>\n",
       "    <tr>\n",
       "      <th>min</th>\n",
       "      <td>0.200000</td>\n",
       "      <td>54.000000</td>\n",
       "      <td>52.000000</td>\n",
       "      <td>351.000000</td>\n",
       "      <td>3.730000</td>\n",
       "      <td>3.680000</td>\n",
       "      <td>0.000000</td>\n",
       "    </tr>\n",
       "    <tr>\n",
       "      <th>25%</th>\n",
       "      <td>0.400000</td>\n",
       "      <td>61.100000</td>\n",
       "      <td>56.000000</td>\n",
       "      <td>949.000000</td>\n",
       "      <td>4.717500</td>\n",
       "      <td>4.720000</td>\n",
       "      <td>2.910000</td>\n",
       "    </tr>\n",
       "    <tr>\n",
       "      <th>50%</th>\n",
       "      <td>0.700000</td>\n",
       "      <td>61.800000</td>\n",
       "      <td>57.000000</td>\n",
       "      <td>2406.500000</td>\n",
       "      <td>5.700000</td>\n",
       "      <td>5.710000</td>\n",
       "      <td>3.530000</td>\n",
       "    </tr>\n",
       "    <tr>\n",
       "      <th>75%</th>\n",
       "      <td>1.040000</td>\n",
       "      <td>62.500000</td>\n",
       "      <td>59.000000</td>\n",
       "      <td>5299.500000</td>\n",
       "      <td>6.540000</td>\n",
       "      <td>6.540000</td>\n",
       "      <td>4.030000</td>\n",
       "    </tr>\n",
       "    <tr>\n",
       "      <th>max</th>\n",
       "      <td>5.010000</td>\n",
       "      <td>78.200000</td>\n",
       "      <td>69.000000</td>\n",
       "      <td>18804.000000</td>\n",
       "      <td>10.740000</td>\n",
       "      <td>10.540000</td>\n",
       "      <td>31.800000</td>\n",
       "    </tr>\n",
       "  </tbody>\n",
       "</table>\n",
       "</div>"
      ],
      "text/plain": [
       "             carat        depth        table         price            x  \\\n",
       "count  5000.000000  5000.000000  5000.000000   5000.000000  5000.000000   \n",
       "mean      0.795696    61.762480    57.481260   3882.636400     5.725778   \n",
       "std       0.476678     1.422017     2.233244   3935.768059     1.117880   \n",
       "min       0.200000    54.000000    52.000000    351.000000     3.730000   \n",
       "25%       0.400000    61.100000    56.000000    949.000000     4.717500   \n",
       "50%       0.700000    61.800000    57.000000   2406.500000     5.700000   \n",
       "75%       1.040000    62.500000    59.000000   5299.500000     6.540000   \n",
       "max       5.010000    78.200000    69.000000  18804.000000    10.740000   \n",
       "\n",
       "                 y            z  \n",
       "count  5000.000000  5000.000000  \n",
       "mean      5.727192     3.540418  \n",
       "std       1.109586     0.800370  \n",
       "min       3.680000     0.000000  \n",
       "25%       4.720000     2.910000  \n",
       "50%       5.710000     3.530000  \n",
       "75%       6.540000     4.030000  \n",
       "max      10.540000    31.800000  "
      ]
     },
     "execution_count": 11,
     "metadata": {},
     "output_type": "execute_result"
    }
   ],
   "source": [
    "diamonds_data.describe()"
   ]
  },
  {
   "cell_type": "markdown",
   "metadata": {},
   "source": [
    "### Visualizing Relationships "
   ]
  },
  {
   "cell_type": "code",
   "execution_count": 12,
   "metadata": {},
   "outputs": [
    {
     "data": {
      "image/png": "[encoded data removed]",
      "text/plain": [
       "<Figure size 864x576 with 1 Axes>"
      ]
     },
     "metadata": {
      "needs_background": "light"
     },
     "output_type": "display_data"
    }
   ],
   "source": [
    "plt.figure(figsize=(12, 8 ))\n",
    "\n",
    "diamonds_data.boxplot('price')\n",
    "\n",
    "plt.show()"
   ]
  },
  {
   "cell_type": "code",
   "execution_count": 13,
   "metadata": {},
   "outputs": [
    {
     "data": {
      "image/png": "[encoded data removed]",
      "text/plain": [
       "<Figure size 864x576 with 1 Axes>"
      ]
     },
     "metadata": {
      "needs_background": "light"
     },
     "output_type": "display_data"
    }
   ],
   "source": [
    "plt.figure(figsize=(12, 8))\n",
    "\n",
    "diamonds_data['price'].plot.kde()\n",
    "\n",
    "plt.show()"
   ]
  },
  {
   "cell_type": "code",
   "execution_count": 14,
   "metadata": {},
   "outputs": [
    {
     "data": {
      "image/png": "[encoded data removed]",
      "text/plain": [
       "<Figure size 720x576 with 1 Axes>"
      ]
     },
     "metadata": {
      "needs_background": "light"
     },
     "output_type": "display_data"
    }
   ],
   "source": [
    "plt.figure(figsize=(10, 8))\n",
    "\n",
    "plt.scatter(diamonds_data['carat'], diamonds_data['price'], s=100)\n",
    "\n",
    "plt.xlabel('Carat', fontsize=20)\n",
    "plt.ylabel('Price', fontsize=20)\n",
    "\n",
    "plt.show()"
   ]
  },
  {
   "cell_type": "code",
   "execution_count": 15,
   "metadata": {},
   "outputs": [
    {
     "data": {
      "image/png": "[encoded data removed]",
      "text/plain": [
       "<Figure size 720x576 with 1 Axes>"
      ]
     },
     "metadata": {
      "needs_background": "light"
     },
     "output_type": "display_data"
    }
   ],
   "source": [
    "diamonds_data.boxplot('price', 'color', figsize=(10, 8))\n",
    "\n",
    "plt.xlabel('Color', fontsize=20)\n",
    "plt.ylabel('Price', fontsize=20)\n",
    "\n",
    "plt.show()"
   ]
  },
  {
   "cell_type": "code",
   "execution_count": 16,
   "metadata": {},
   "outputs": [
    {
     "data": {
      "text/html": [
       "<div>\n",
       "<style scoped>\n",
       "    .dataframe tbody tr th:only-of-type {\n",
       "        vertical-align: middle;\n",
       "    }\n",
       "\n",
       "    .dataframe tbody tr th {\n",
       "        vertical-align: top;\n",
       "    }\n",
       "\n",
       "    .dataframe thead th {\n",
       "        text-align: right;\n",
       "    }\n",
       "</style>\n",
       "<table border=\"1\" class=\"dataframe\">\n",
       "  <thead>\n",
       "    <tr style=\"text-align: right;\">\n",
       "      <th></th>\n",
       "      <th>carat</th>\n",
       "      <th>depth</th>\n",
       "      <th>table</th>\n",
       "      <th>price</th>\n",
       "      <th>x</th>\n",
       "      <th>y</th>\n",
       "      <th>z</th>\n",
       "    </tr>\n",
       "  </thead>\n",
       "  <tbody>\n",
       "    <tr>\n",
       "      <th>carat</th>\n",
       "      <td>1.000000</td>\n",
       "      <td>0.037915</td>\n",
       "      <td>0.198259</td>\n",
       "      <td>0.922516</td>\n",
       "      <td>0.975342</td>\n",
       "      <td>0.974557</td>\n",
       "      <td>0.831966</td>\n",
       "    </tr>\n",
       "    <tr>\n",
       "      <th>depth</th>\n",
       "      <td>0.037915</td>\n",
       "      <td>1.000000</td>\n",
       "      <td>-0.287789</td>\n",
       "      <td>-0.006550</td>\n",
       "      <td>-0.020935</td>\n",
       "      <td>-0.024386</td>\n",
       "      <td>0.086578</td>\n",
       "    </tr>\n",
       "    <tr>\n",
       "      <th>table</th>\n",
       "      <td>0.198259</td>\n",
       "      <td>-0.287789</td>\n",
       "      <td>1.000000</td>\n",
       "      <td>0.148751</td>\n",
       "      <td>0.211267</td>\n",
       "      <td>0.204839</td>\n",
       "      <td>0.139556</td>\n",
       "    </tr>\n",
       "    <tr>\n",
       "      <th>price</th>\n",
       "      <td>0.922516</td>\n",
       "      <td>-0.006550</td>\n",
       "      <td>0.148751</td>\n",
       "      <td>1.000000</td>\n",
       "      <td>0.889504</td>\n",
       "      <td>0.891417</td>\n",
       "      <td>0.755136</td>\n",
       "    </tr>\n",
       "    <tr>\n",
       "      <th>x</th>\n",
       "      <td>0.975342</td>\n",
       "      <td>-0.020935</td>\n",
       "      <td>0.211267</td>\n",
       "      <td>0.889504</td>\n",
       "      <td>1.000000</td>\n",
       "      <td>0.998922</td>\n",
       "      <td>0.848243</td>\n",
       "    </tr>\n",
       "    <tr>\n",
       "      <th>y</th>\n",
       "      <td>0.974557</td>\n",
       "      <td>-0.024386</td>\n",
       "      <td>0.204839</td>\n",
       "      <td>0.891417</td>\n",
       "      <td>0.998922</td>\n",
       "      <td>1.000000</td>\n",
       "      <td>0.847981</td>\n",
       "    </tr>\n",
       "    <tr>\n",
       "      <th>z</th>\n",
       "      <td>0.831966</td>\n",
       "      <td>0.086578</td>\n",
       "      <td>0.139556</td>\n",
       "      <td>0.755136</td>\n",
       "      <td>0.848243</td>\n",
       "      <td>0.847981</td>\n",
       "      <td>1.000000</td>\n",
       "    </tr>\n",
       "  </tbody>\n",
       "</table>\n",
       "</div>"
      ],
      "text/plain": [
       "          carat     depth     table     price         x         y         z\n",
       "carat  1.000000  0.037915  0.198259  0.922516  0.975342  0.974557  0.831966\n",
       "depth  0.037915  1.000000 -0.287789 -0.006550 -0.020935 -0.024386  0.086578\n",
       "table  0.198259 -0.287789  1.000000  0.148751  0.211267  0.204839  0.139556\n",
       "price  0.922516 -0.006550  0.148751  1.000000  0.889504  0.891417  0.755136\n",
       "x      0.975342 -0.020935  0.211267  0.889504  1.000000  0.998922  0.848243\n",
       "y      0.974557 -0.024386  0.204839  0.891417  0.998922  1.000000  0.847981\n",
       "z      0.831966  0.086578  0.139556  0.755136  0.848243  0.847981  1.000000"
      ]
     },
     "execution_count": 16,
     "metadata": {},
     "output_type": "execute_result"
    }
   ],
   "source": [
    "diamonds_data_corr = diamonds_data.corr()\n",
    "\n",
    "diamonds_data_corr"
   ]
  },
  {
   "cell_type": "code",
   "execution_count": 17,
   "metadata": {},
   "outputs": [],
   "source": [
    "features = diamonds_data.drop('price', axis=1)\n",
    "\n",
    "target = diamonds_data[['price']]"
   ]
  },
  {
   "cell_type": "code",
   "execution_count": 18,
   "metadata": {},
   "outputs": [
    {
     "data": {
      "text/html": [
       "<div>\n",
       "<style scoped>\n",
       "    .dataframe tbody tr th:only-of-type {\n",
       "        vertical-align: middle;\n",
       "    }\n",
       "\n",
       "    .dataframe tbody tr th {\n",
       "        vertical-align: top;\n",
       "    }\n",
       "\n",
       "    .dataframe thead th {\n",
       "        text-align: right;\n",
       "    }\n",
       "</style>\n",
       "<table border=\"1\" class=\"dataframe\">\n",
       "  <thead>\n",
       "    <tr style=\"text-align: right;\">\n",
       "      <th></th>\n",
       "      <th>carat</th>\n",
       "      <th>cut</th>\n",
       "      <th>color</th>\n",
       "      <th>clarity</th>\n",
       "      <th>depth</th>\n",
       "      <th>table</th>\n",
       "      <th>x</th>\n",
       "      <th>y</th>\n",
       "      <th>z</th>\n",
       "    </tr>\n",
       "  </thead>\n",
       "  <tbody>\n",
       "    <tr>\n",
       "      <th>8318</th>\n",
       "      <td>0.90</td>\n",
       "      <td>Ideal</td>\n",
       "      <td>F</td>\n",
       "      <td>SI1</td>\n",
       "      <td>62.2</td>\n",
       "      <td>55.0</td>\n",
       "      <td>6.16</td>\n",
       "      <td>6.21</td>\n",
       "      <td>3.85</td>\n",
       "    </tr>\n",
       "    <tr>\n",
       "      <th>18597</th>\n",
       "      <td>1.12</td>\n",
       "      <td>Premium</td>\n",
       "      <td>D</td>\n",
       "      <td>VS2</td>\n",
       "      <td>63.0</td>\n",
       "      <td>57.0</td>\n",
       "      <td>6.62</td>\n",
       "      <td>6.55</td>\n",
       "      <td>4.15</td>\n",
       "    </tr>\n",
       "    <tr>\n",
       "      <th>8696</th>\n",
       "      <td>1.00</td>\n",
       "      <td>Ideal</td>\n",
       "      <td>H</td>\n",
       "      <td>SI2</td>\n",
       "      <td>61.5</td>\n",
       "      <td>55.6</td>\n",
       "      <td>6.41</td>\n",
       "      <td>6.48</td>\n",
       "      <td>3.96</td>\n",
       "    </tr>\n",
       "    <tr>\n",
       "      <th>45468</th>\n",
       "      <td>0.50</td>\n",
       "      <td>Premium</td>\n",
       "      <td>E</td>\n",
       "      <td>VS2</td>\n",
       "      <td>62.6</td>\n",
       "      <td>58.0</td>\n",
       "      <td>5.12</td>\n",
       "      <td>5.07</td>\n",
       "      <td>3.19</td>\n",
       "    </tr>\n",
       "    <tr>\n",
       "      <th>4561</th>\n",
       "      <td>0.93</td>\n",
       "      <td>Very Good</td>\n",
       "      <td>G</td>\n",
       "      <td>SI2</td>\n",
       "      <td>60.8</td>\n",
       "      <td>62.0</td>\n",
       "      <td>6.29</td>\n",
       "      <td>6.34</td>\n",
       "      <td>3.84</td>\n",
       "    </tr>\n",
       "  </tbody>\n",
       "</table>\n",
       "</div>"
      ],
      "text/plain": [
       "       carat        cut color clarity  depth  table     x     y     z\n",
       "8318    0.90      Ideal     F     SI1   62.2   55.0  6.16  6.21  3.85\n",
       "18597   1.12    Premium     D     VS2   63.0   57.0  6.62  6.55  4.15\n",
       "8696    1.00      Ideal     H     SI2   61.5   55.6  6.41  6.48  3.96\n",
       "45468   0.50    Premium     E     VS2   62.6   58.0  5.12  5.07  3.19\n",
       "4561    0.93  Very Good     G     SI2   60.8   62.0  6.29  6.34  3.84"
      ]
     },
     "execution_count": 18,
     "metadata": {},
     "output_type": "execute_result"
    }
   ],
   "source": [
    "features.head()"
   ]
  },
  {
   "cell_type": "code",
   "execution_count": 19,
   "metadata": {},
   "outputs": [
    {
     "data": {
      "text/html": [
       "<div>\n",
       "<style scoped>\n",
       "    .dataframe tbody tr th:only-of-type {\n",
       "        vertical-align: middle;\n",
       "    }\n",
       "\n",
       "    .dataframe tbody tr th {\n",
       "        vertical-align: top;\n",
       "    }\n",
       "\n",
       "    .dataframe thead th {\n",
       "        text-align: right;\n",
       "    }\n",
       "</style>\n",
       "<table border=\"1\" class=\"dataframe\">\n",
       "  <thead>\n",
       "    <tr style=\"text-align: right;\">\n",
       "      <th></th>\n",
       "      <th>color</th>\n",
       "      <th>cut</th>\n",
       "      <th>clarity</th>\n",
       "    </tr>\n",
       "  </thead>\n",
       "  <tbody>\n",
       "    <tr>\n",
       "      <th>8318</th>\n",
       "      <td>F</td>\n",
       "      <td>Ideal</td>\n",
       "      <td>SI1</td>\n",
       "    </tr>\n",
       "    <tr>\n",
       "      <th>18597</th>\n",
       "      <td>D</td>\n",
       "      <td>Premium</td>\n",
       "      <td>VS2</td>\n",
       "    </tr>\n",
       "    <tr>\n",
       "      <th>8696</th>\n",
       "      <td>H</td>\n",
       "      <td>Ideal</td>\n",
       "      <td>SI2</td>\n",
       "    </tr>\n",
       "    <tr>\n",
       "      <th>45468</th>\n",
       "      <td>E</td>\n",
       "      <td>Premium</td>\n",
       "      <td>VS2</td>\n",
       "    </tr>\n",
       "    <tr>\n",
       "      <th>4561</th>\n",
       "      <td>G</td>\n",
       "      <td>Very Good</td>\n",
       "      <td>SI2</td>\n",
       "    </tr>\n",
       "  </tbody>\n",
       "</table>\n",
       "</div>"
      ],
      "text/plain": [
       "      color        cut clarity\n",
       "8318      F      Ideal     SI1\n",
       "18597     D    Premium     VS2\n",
       "8696      H      Ideal     SI2\n",
       "45468     E    Premium     VS2\n",
       "4561      G  Very Good     SI2"
      ]
     },
     "execution_count": 19,
     "metadata": {},
     "output_type": "execute_result"
    }
   ],
   "source": [
    "categorical_features = features[['color', 'cut', 'clarity']]\n",
    "\n",
    "categorical_features.head()"
   ]
  },
  {
   "cell_type": "code",
   "execution_count": 20,
   "metadata": {},
   "outputs": [
    {
     "data": {
      "text/html": [
       "<div>\n",
       "<style scoped>\n",
       "    .dataframe tbody tr th:only-of-type {\n",
       "        vertical-align: middle;\n",
       "    }\n",
       "\n",
       "    .dataframe tbody tr th {\n",
       "        vertical-align: top;\n",
       "    }\n",
       "\n",
       "    .dataframe thead th {\n",
       "        text-align: right;\n",
       "    }\n",
       "</style>\n",
       "<table border=\"1\" class=\"dataframe\">\n",
       "  <thead>\n",
       "    <tr style=\"text-align: right;\">\n",
       "      <th></th>\n",
       "      <th>carat</th>\n",
       "      <th>depth</th>\n",
       "      <th>table</th>\n",
       "      <th>x</th>\n",
       "      <th>y</th>\n",
       "      <th>z</th>\n",
       "    </tr>\n",
       "  </thead>\n",
       "  <tbody>\n",
       "    <tr>\n",
       "      <th>8318</th>\n",
       "      <td>0.90</td>\n",
       "      <td>62.2</td>\n",
       "      <td>55.0</td>\n",
       "      <td>6.16</td>\n",
       "      <td>6.21</td>\n",
       "      <td>3.85</td>\n",
       "    </tr>\n",
       "    <tr>\n",
       "      <th>18597</th>\n",
       "      <td>1.12</td>\n",
       "      <td>63.0</td>\n",
       "      <td>57.0</td>\n",
       "      <td>6.62</td>\n",
       "      <td>6.55</td>\n",
       "      <td>4.15</td>\n",
       "    </tr>\n",
       "    <tr>\n",
       "      <th>8696</th>\n",
       "      <td>1.00</td>\n",
       "      <td>61.5</td>\n",
       "      <td>55.6</td>\n",
       "      <td>6.41</td>\n",
       "      <td>6.48</td>\n",
       "      <td>3.96</td>\n",
       "    </tr>\n",
       "    <tr>\n",
       "      <th>45468</th>\n",
       "      <td>0.50</td>\n",
       "      <td>62.6</td>\n",
       "      <td>58.0</td>\n",
       "      <td>5.12</td>\n",
       "      <td>5.07</td>\n",
       "      <td>3.19</td>\n",
       "    </tr>\n",
       "    <tr>\n",
       "      <th>4561</th>\n",
       "      <td>0.93</td>\n",
       "      <td>60.8</td>\n",
       "      <td>62.0</td>\n",
       "      <td>6.29</td>\n",
       "      <td>6.34</td>\n",
       "      <td>3.84</td>\n",
       "    </tr>\n",
       "  </tbody>\n",
       "</table>\n",
       "</div>"
      ],
      "text/plain": [
       "       carat  depth  table     x     y     z\n",
       "8318    0.90   62.2   55.0  6.16  6.21  3.85\n",
       "18597   1.12   63.0   57.0  6.62  6.55  4.15\n",
       "8696    1.00   61.5   55.6  6.41  6.48  3.96\n",
       "45468   0.50   62.6   58.0  5.12  5.07  3.19\n",
       "4561    0.93   60.8   62.0  6.29  6.34  3.84"
      ]
     },
     "execution_count": 20,
     "metadata": {},
     "output_type": "execute_result"
    }
   ],
   "source": [
    "numeric_features = features.drop(['color', 'cut', 'clarity'], axis=1)\n",
    "\n",
    "numeric_features.head()"
   ]
  },
  {
   "cell_type": "markdown",
   "metadata": {},
   "source": [
    "### Performing label and one hot encoding for categorical columns"
   ]
  },
  {
   "cell_type": "code",
   "execution_count": 21,
   "metadata": {},
   "outputs": [
    {
     "data": {
      "text/plain": [
       "array(['F', 'D', 'H', 'E', 'G', 'J', 'I'], dtype=object)"
      ]
     },
     "execution_count": 21,
     "metadata": {},
     "output_type": "execute_result"
    }
   ],
   "source": [
    "categorical_features['color'].unique()"
   ]
  },
  {
   "cell_type": "code",
   "execution_count": 22,
   "metadata": {},
   "outputs": [
    {
     "data": {
      "text/plain": [
       "array(['Ideal', 'Premium', 'Very Good', 'Fair', 'Good'], dtype=object)"
      ]
     },
     "execution_count": 22,
     "metadata": {},
     "output_type": "execute_result"
    }
   ],
   "source": [
    "categorical_features['cut'].unique()"
   ]
  },
  {
   "cell_type": "code",
   "execution_count": 23,
   "metadata": {},
   "outputs": [
    {
     "data": {
      "text/plain": [
       "array(['SI1', 'VS2', 'SI2', 'VVS2', 'IF', 'VS1', 'I1', 'VVS1'],\n",
       "      dtype=object)"
      ]
     },
     "execution_count": 23,
     "metadata": {},
     "output_type": "execute_result"
    }
   ],
   "source": [
    "categorical_features['clarity'].unique()"
   ]
  },
  {
   "cell_type": "code",
   "execution_count": 24,
   "metadata": {},
   "outputs": [
    {
     "name": "stderr",
     "output_type": "stream",
     "text": [
      "C:\\ProgramData\\Anaconda3\\lib\\site-packages\\pandas\\core\\generic.py:6746: SettingWithCopyWarning: \n",
      "A value is trying to be set on a copy of a slice from a DataFrame\n",
      "\n",
      "See the caveats in the documentation: https://pandas.pydata.org/pandas-docs/stable/user_guide/indexing.html#returning-a-view-versus-a-copy\n",
      "  self._update_inplace(new_data)\n"
     ]
    },
    {
     "data": {
      "text/html": [
       "<div>\n",
       "<style scoped>\n",
       "    .dataframe tbody tr th:only-of-type {\n",
       "        vertical-align: middle;\n",
       "    }\n",
       "\n",
       "    .dataframe tbody tr th {\n",
       "        vertical-align: top;\n",
       "    }\n",
       "\n",
       "    .dataframe thead th {\n",
       "        text-align: right;\n",
       "    }\n",
       "</style>\n",
       "<table border=\"1\" class=\"dataframe\">\n",
       "  <thead>\n",
       "    <tr style=\"text-align: right;\">\n",
       "      <th></th>\n",
       "      <th>color</th>\n",
       "      <th>cut</th>\n",
       "      <th>clarity</th>\n",
       "    </tr>\n",
       "  </thead>\n",
       "  <tbody>\n",
       "    <tr>\n",
       "      <th>8318</th>\n",
       "      <td>2</td>\n",
       "      <td>Ideal</td>\n",
       "      <td>SI1</td>\n",
       "    </tr>\n",
       "    <tr>\n",
       "      <th>18597</th>\n",
       "      <td>0</td>\n",
       "      <td>Premium</td>\n",
       "      <td>VS2</td>\n",
       "    </tr>\n",
       "    <tr>\n",
       "      <th>8696</th>\n",
       "      <td>4</td>\n",
       "      <td>Ideal</td>\n",
       "      <td>SI2</td>\n",
       "    </tr>\n",
       "    <tr>\n",
       "      <th>45468</th>\n",
       "      <td>1</td>\n",
       "      <td>Premium</td>\n",
       "      <td>VS2</td>\n",
       "    </tr>\n",
       "    <tr>\n",
       "      <th>4561</th>\n",
       "      <td>3</td>\n",
       "      <td>Very Good</td>\n",
       "      <td>SI2</td>\n",
       "    </tr>\n",
       "  </tbody>\n",
       "</table>\n",
       "</div>"
      ],
      "text/plain": [
       "       color        cut clarity\n",
       "8318       2      Ideal     SI1\n",
       "18597      0    Premium     VS2\n",
       "8696       4      Ideal     SI2\n",
       "45468      1    Premium     VS2\n",
       "4561       3  Very Good     SI2"
      ]
     },
     "execution_count": 24,
     "metadata": {},
     "output_type": "execute_result"
    }
   ],
   "source": [
    "color_dict = {'D':0, 'E':1, 'F':2, 'G':3, 'H':4, 'I':5, 'J':6}\n",
    "\n",
    "categorical_features['color'].replace(color_dict, inplace=True)\n",
    "\n",
    "categorical_features.head()"
   ]
  },
  {
   "cell_type": "code",
   "execution_count": 25,
   "metadata": {},
   "outputs": [
    {
     "name": "stderr",
     "output_type": "stream",
     "text": [
      "C:\\ProgramData\\Anaconda3\\lib\\site-packages\\pandas\\core\\generic.py:6746: SettingWithCopyWarning: \n",
      "A value is trying to be set on a copy of a slice from a DataFrame\n",
      "\n",
      "See the caveats in the documentation: https://pandas.pydata.org/pandas-docs/stable/user_guide/indexing.html#returning-a-view-versus-a-copy\n",
      "  self._update_inplace(new_data)\n"
     ]
    },
    {
     "data": {
      "text/html": [
       "<div>\n",
       "<style scoped>\n",
       "    .dataframe tbody tr th:only-of-type {\n",
       "        vertical-align: middle;\n",
       "    }\n",
       "\n",
       "    .dataframe tbody tr th {\n",
       "        vertical-align: top;\n",
       "    }\n",
       "\n",
       "    .dataframe thead th {\n",
       "        text-align: right;\n",
       "    }\n",
       "</style>\n",
       "<table border=\"1\" class=\"dataframe\">\n",
       "  <thead>\n",
       "    <tr style=\"text-align: right;\">\n",
       "      <th></th>\n",
       "      <th>color</th>\n",
       "      <th>cut</th>\n",
       "      <th>clarity</th>\n",
       "    </tr>\n",
       "  </thead>\n",
       "  <tbody>\n",
       "    <tr>\n",
       "      <th>8318</th>\n",
       "      <td>2</td>\n",
       "      <td>4</td>\n",
       "      <td>SI1</td>\n",
       "    </tr>\n",
       "    <tr>\n",
       "      <th>18597</th>\n",
       "      <td>0</td>\n",
       "      <td>3</td>\n",
       "      <td>VS2</td>\n",
       "    </tr>\n",
       "    <tr>\n",
       "      <th>8696</th>\n",
       "      <td>4</td>\n",
       "      <td>4</td>\n",
       "      <td>SI2</td>\n",
       "    </tr>\n",
       "    <tr>\n",
       "      <th>45468</th>\n",
       "      <td>1</td>\n",
       "      <td>3</td>\n",
       "      <td>VS2</td>\n",
       "    </tr>\n",
       "    <tr>\n",
       "      <th>4561</th>\n",
       "      <td>3</td>\n",
       "      <td>2</td>\n",
       "      <td>SI2</td>\n",
       "    </tr>\n",
       "  </tbody>\n",
       "</table>\n",
       "</div>"
      ],
      "text/plain": [
       "       color  cut clarity\n",
       "8318       2    4     SI1\n",
       "18597      0    3     VS2\n",
       "8696       4    4     SI2\n",
       "45468      1    3     VS2\n",
       "4561       3    2     SI2"
      ]
     },
     "execution_count": 25,
     "metadata": {},
     "output_type": "execute_result"
    }
   ],
   "source": [
    "cut_dict = {'Fair':0, 'Good':1, 'Very Good':2, 'Premium':3, 'Ideal':4}\n",
    "\n",
    "categorical_features['cut'].replace(cut_dict, inplace=True)\n",
    "\n",
    "categorical_features.head()"
   ]
  },
  {
   "cell_type": "code",
   "execution_count": 26,
   "metadata": {},
   "outputs": [
    {
     "name": "stderr",
     "output_type": "stream",
     "text": [
      "C:\\ProgramData\\Anaconda3\\lib\\site-packages\\pandas\\core\\generic.py:6746: SettingWithCopyWarning: \n",
      "A value is trying to be set on a copy of a slice from a DataFrame\n",
      "\n",
      "See the caveats in the documentation: https://pandas.pydata.org/pandas-docs/stable/user_guide/indexing.html#returning-a-view-versus-a-copy\n",
      "  self._update_inplace(new_data)\n"
     ]
    },
    {
     "data": {
      "text/html": [
       "<div>\n",
       "<style scoped>\n",
       "    .dataframe tbody tr th:only-of-type {\n",
       "        vertical-align: middle;\n",
       "    }\n",
       "\n",
       "    .dataframe tbody tr th {\n",
       "        vertical-align: top;\n",
       "    }\n",
       "\n",
       "    .dataframe thead th {\n",
       "        text-align: right;\n",
       "    }\n",
       "</style>\n",
       "<table border=\"1\" class=\"dataframe\">\n",
       "  <thead>\n",
       "    <tr style=\"text-align: right;\">\n",
       "      <th></th>\n",
       "      <th>color</th>\n",
       "      <th>cut</th>\n",
       "      <th>clarity</th>\n",
       "    </tr>\n",
       "  </thead>\n",
       "  <tbody>\n",
       "    <tr>\n",
       "      <th>8318</th>\n",
       "      <td>2</td>\n",
       "      <td>4</td>\n",
       "      <td>2</td>\n",
       "    </tr>\n",
       "    <tr>\n",
       "      <th>18597</th>\n",
       "      <td>0</td>\n",
       "      <td>3</td>\n",
       "      <td>3</td>\n",
       "    </tr>\n",
       "    <tr>\n",
       "      <th>8696</th>\n",
       "      <td>4</td>\n",
       "      <td>4</td>\n",
       "      <td>1</td>\n",
       "    </tr>\n",
       "    <tr>\n",
       "      <th>45468</th>\n",
       "      <td>1</td>\n",
       "      <td>3</td>\n",
       "      <td>3</td>\n",
       "    </tr>\n",
       "    <tr>\n",
       "      <th>4561</th>\n",
       "      <td>3</td>\n",
       "      <td>2</td>\n",
       "      <td>1</td>\n",
       "    </tr>\n",
       "  </tbody>\n",
       "</table>\n",
       "</div>"
      ],
      "text/plain": [
       "       color  cut  clarity\n",
       "8318       2    4        2\n",
       "18597      0    3        3\n",
       "8696       4    4        1\n",
       "45468      1    3        3\n",
       "4561       3    2        1"
      ]
     },
     "execution_count": 26,
     "metadata": {},
     "output_type": "execute_result"
    }
   ],
   "source": [
    "clarity_dict = {'I1':0, 'SI2':1, 'SI1':2, 'VS2':3, 'VS1':4, 'VVS2':5, 'VVS1':6, 'IF':7}\n",
    "\n",
    "categorical_features['clarity'].replace(clarity_dict, inplace=True)\n",
    "\n",
    "categorical_features.head()"
   ]
  },
  {
   "cell_type": "code",
   "execution_count": 27,
   "metadata": {},
   "outputs": [
    {
     "data": {
      "text/html": [
       "<div>\n",
       "<style scoped>\n",
       "    .dataframe tbody tr th:only-of-type {\n",
       "        vertical-align: middle;\n",
       "    }\n",
       "\n",
       "    .dataframe tbody tr th {\n",
       "        vertical-align: top;\n",
       "    }\n",
       "\n",
       "    .dataframe thead th {\n",
       "        text-align: right;\n",
       "    }\n",
       "</style>\n",
       "<table border=\"1\" class=\"dataframe\">\n",
       "  <thead>\n",
       "    <tr style=\"text-align: right;\">\n",
       "      <th></th>\n",
       "      <th>carat</th>\n",
       "      <th>depth</th>\n",
       "      <th>table</th>\n",
       "      <th>x</th>\n",
       "      <th>y</th>\n",
       "      <th>z</th>\n",
       "    </tr>\n",
       "  </thead>\n",
       "  <tbody>\n",
       "    <tr>\n",
       "      <th>count</th>\n",
       "      <td>5000.000000</td>\n",
       "      <td>5000.000000</td>\n",
       "      <td>5000.000000</td>\n",
       "      <td>5000.000000</td>\n",
       "      <td>5000.000000</td>\n",
       "      <td>5000.000000</td>\n",
       "    </tr>\n",
       "    <tr>\n",
       "      <th>mean</th>\n",
       "      <td>0.795696</td>\n",
       "      <td>61.762480</td>\n",
       "      <td>57.481260</td>\n",
       "      <td>5.725778</td>\n",
       "      <td>5.727192</td>\n",
       "      <td>3.540418</td>\n",
       "    </tr>\n",
       "    <tr>\n",
       "      <th>std</th>\n",
       "      <td>0.476678</td>\n",
       "      <td>1.422017</td>\n",
       "      <td>2.233244</td>\n",
       "      <td>1.117880</td>\n",
       "      <td>1.109586</td>\n",
       "      <td>0.800370</td>\n",
       "    </tr>\n",
       "    <tr>\n",
       "      <th>min</th>\n",
       "      <td>0.200000</td>\n",
       "      <td>54.000000</td>\n",
       "      <td>52.000000</td>\n",
       "      <td>3.730000</td>\n",
       "      <td>3.680000</td>\n",
       "      <td>0.000000</td>\n",
       "    </tr>\n",
       "    <tr>\n",
       "      <th>25%</th>\n",
       "      <td>0.400000</td>\n",
       "      <td>61.100000</td>\n",
       "      <td>56.000000</td>\n",
       "      <td>4.717500</td>\n",
       "      <td>4.720000</td>\n",
       "      <td>2.910000</td>\n",
       "    </tr>\n",
       "    <tr>\n",
       "      <th>50%</th>\n",
       "      <td>0.700000</td>\n",
       "      <td>61.800000</td>\n",
       "      <td>57.000000</td>\n",
       "      <td>5.700000</td>\n",
       "      <td>5.710000</td>\n",
       "      <td>3.530000</td>\n",
       "    </tr>\n",
       "    <tr>\n",
       "      <th>75%</th>\n",
       "      <td>1.040000</td>\n",
       "      <td>62.500000</td>\n",
       "      <td>59.000000</td>\n",
       "      <td>6.540000</td>\n",
       "      <td>6.540000</td>\n",
       "      <td>4.030000</td>\n",
       "    </tr>\n",
       "    <tr>\n",
       "      <th>max</th>\n",
       "      <td>5.010000</td>\n",
       "      <td>78.200000</td>\n",
       "      <td>69.000000</td>\n",
       "      <td>10.740000</td>\n",
       "      <td>10.540000</td>\n",
       "      <td>31.800000</td>\n",
       "    </tr>\n",
       "  </tbody>\n",
       "</table>\n",
       "</div>"
      ],
      "text/plain": [
       "             carat        depth        table            x            y  \\\n",
       "count  5000.000000  5000.000000  5000.000000  5000.000000  5000.000000   \n",
       "mean      0.795696    61.762480    57.481260     5.725778     5.727192   \n",
       "std       0.476678     1.422017     2.233244     1.117880     1.109586   \n",
       "min       0.200000    54.000000    52.000000     3.730000     3.680000   \n",
       "25%       0.400000    61.100000    56.000000     4.717500     4.720000   \n",
       "50%       0.700000    61.800000    57.000000     5.700000     5.710000   \n",
       "75%       1.040000    62.500000    59.000000     6.540000     6.540000   \n",
       "max       5.010000    78.200000    69.000000    10.740000    10.540000   \n",
       "\n",
       "                 z  \n",
       "count  5000.000000  \n",
       "mean      3.540418  \n",
       "std       0.800370  \n",
       "min       0.000000  \n",
       "25%       2.910000  \n",
       "50%       3.530000  \n",
       "75%       4.030000  \n",
       "max      31.800000  "
      ]
     },
     "execution_count": 27,
     "metadata": {},
     "output_type": "execute_result"
    }
   ],
   "source": [
    "numeric_features.describe()"
   ]
  },
  {
   "cell_type": "code",
   "execution_count": 28,
   "metadata": {},
   "outputs": [
    {
     "data": {
      "text/html": [
       "<div>\n",
       "<style scoped>\n",
       "    .dataframe tbody tr th:only-of-type {\n",
       "        vertical-align: middle;\n",
       "    }\n",
       "\n",
       "    .dataframe tbody tr th {\n",
       "        vertical-align: top;\n",
       "    }\n",
       "\n",
       "    .dataframe thead th {\n",
       "        text-align: right;\n",
       "    }\n",
       "</style>\n",
       "<table border=\"1\" class=\"dataframe\">\n",
       "  <thead>\n",
       "    <tr style=\"text-align: right;\">\n",
       "      <th></th>\n",
       "      <th>carat</th>\n",
       "      <th>depth</th>\n",
       "      <th>table</th>\n",
       "      <th>x</th>\n",
       "      <th>y</th>\n",
       "      <th>z</th>\n",
       "    </tr>\n",
       "  </thead>\n",
       "  <tbody>\n",
       "    <tr>\n",
       "      <th>count</th>\n",
       "      <td>5.000000e+03</td>\n",
       "      <td>5.000000e+03</td>\n",
       "      <td>5.000000e+03</td>\n",
       "      <td>5.000000e+03</td>\n",
       "      <td>5.000000e+03</td>\n",
       "      <td>5.000000e+03</td>\n",
       "    </tr>\n",
       "    <tr>\n",
       "      <th>mean</th>\n",
       "      <td>1.775469e-16</td>\n",
       "      <td>-2.575007e-15</td>\n",
       "      <td>-2.641609e-15</td>\n",
       "      <td>-1.611156e-16</td>\n",
       "      <td>2.645439e-16</td>\n",
       "      <td>1.711520e-16</td>\n",
       "    </tr>\n",
       "    <tr>\n",
       "      <th>std</th>\n",
       "      <td>1.000100e+00</td>\n",
       "      <td>1.000100e+00</td>\n",
       "      <td>1.000100e+00</td>\n",
       "      <td>1.000100e+00</td>\n",
       "      <td>1.000100e+00</td>\n",
       "      <td>1.000100e+00</td>\n",
       "    </tr>\n",
       "    <tr>\n",
       "      <th>min</th>\n",
       "      <td>-1.249806e+00</td>\n",
       "      <td>-5.459327e+00</td>\n",
       "      <td>-2.454639e+00</td>\n",
       "      <td>-1.785502e+00</td>\n",
       "      <td>-1.845190e+00</td>\n",
       "      <td>-4.423917e+00</td>\n",
       "    </tr>\n",
       "    <tr>\n",
       "      <th>25%</th>\n",
       "      <td>-8.301941e-01</td>\n",
       "      <td>-4.659200e-01</td>\n",
       "      <td>-6.633435e-01</td>\n",
       "      <td>-9.020453e-01</td>\n",
       "      <td>-9.078098e-01</td>\n",
       "      <td>-7.877366e-01</td>\n",
       "    </tr>\n",
       "    <tr>\n",
       "      <th>50%</th>\n",
       "      <td>-2.007760e-01</td>\n",
       "      <td>2.638769e-02</td>\n",
       "      <td>-2.155197e-01</td>\n",
       "      <td>-2.306202e-02</td>\n",
       "      <td>-1.549562e-02</td>\n",
       "      <td>-1.301778e-02</td>\n",
       "    </tr>\n",
       "    <tr>\n",
       "      <th>75%</th>\n",
       "      <td>5.125645e-01</td>\n",
       "      <td>5.186954e-01</td>\n",
       "      <td>6.801280e-01</td>\n",
       "      <td>7.284351e-01</td>\n",
       "      <td>7.326061e-01</td>\n",
       "      <td>6.117555e-01</td>\n",
       "    </tr>\n",
       "    <tr>\n",
       "      <th>max</th>\n",
       "      <td>8.841864e+00</td>\n",
       "      <td>1.156045e+01</td>\n",
       "      <td>5.158366e+00</td>\n",
       "      <td>4.485921e+00</td>\n",
       "      <td>4.337916e+00</td>\n",
       "      <td>3.531166e+01</td>\n",
       "    </tr>\n",
       "  </tbody>\n",
       "</table>\n",
       "</div>"
      ],
      "text/plain": [
       "              carat         depth         table             x             y  \\\n",
       "count  5.000000e+03  5.000000e+03  5.000000e+03  5.000000e+03  5.000000e+03   \n",
       "mean   1.775469e-16 -2.575007e-15 -2.641609e-15 -1.611156e-16  2.645439e-16   \n",
       "std    1.000100e+00  1.000100e+00  1.000100e+00  1.000100e+00  1.000100e+00   \n",
       "min   -1.249806e+00 -5.459327e+00 -2.454639e+00 -1.785502e+00 -1.845190e+00   \n",
       "25%   -8.301941e-01 -4.659200e-01 -6.633435e-01 -9.020453e-01 -9.078098e-01   \n",
       "50%   -2.007760e-01  2.638769e-02 -2.155197e-01 -2.306202e-02 -1.549562e-02   \n",
       "75%    5.125645e-01  5.186954e-01  6.801280e-01  7.284351e-01  7.326061e-01   \n",
       "max    8.841864e+00  1.156045e+01  5.158366e+00  4.485921e+00  4.337916e+00   \n",
       "\n",
       "                  z  \n",
       "count  5.000000e+03  \n",
       "mean   1.711520e-16  \n",
       "std    1.000100e+00  \n",
       "min   -4.423917e+00  \n",
       "25%   -7.877366e-01  \n",
       "50%   -1.301778e-02  \n",
       "75%    6.117555e-01  \n",
       "max    3.531166e+01  "
      ]
     },
     "execution_count": 28,
     "metadata": {},
     "output_type": "execute_result"
    }
   ],
   "source": [
    "standardScaler = StandardScaler()\n",
    "\n",
    "numeric_features = pd.DataFrame(standardScaler.fit_transform(numeric_features),\n",
    "                                columns=numeric_features.columns,\n",
    "                                index=numeric_features.index)\n",
    "\n",
    "numeric_features.describe()"
   ]
  },
  {
   "cell_type": "code",
   "execution_count": 29,
   "metadata": {},
   "outputs": [
    {
     "data": {
      "text/html": [
       "<div>\n",
       "<style scoped>\n",
       "    .dataframe tbody tr th:only-of-type {\n",
       "        vertical-align: middle;\n",
       "    }\n",
       "\n",
       "    .dataframe tbody tr th {\n",
       "        vertical-align: top;\n",
       "    }\n",
       "\n",
       "    .dataframe thead th {\n",
       "        text-align: right;\n",
       "    }\n",
       "</style>\n",
       "<table border=\"1\" class=\"dataframe\">\n",
       "  <thead>\n",
       "    <tr style=\"text-align: right;\">\n",
       "      <th></th>\n",
       "      <th>0</th>\n",
       "      <th>1</th>\n",
       "      <th>2</th>\n",
       "      <th>3</th>\n",
       "      <th>4</th>\n",
       "      <th>5</th>\n",
       "      <th>6</th>\n",
       "      <th>7</th>\n",
       "      <th>8</th>\n",
       "    </tr>\n",
       "  </thead>\n",
       "  <tbody>\n",
       "    <tr>\n",
       "      <th>8318</th>\n",
       "      <td>0.218836</td>\n",
       "      <td>0.307706</td>\n",
       "      <td>-1.111167</td>\n",
       "      <td>0.388472</td>\n",
       "      <td>0.435168</td>\n",
       "      <td>0.386837</td>\n",
       "      <td>2</td>\n",
       "      <td>4</td>\n",
       "      <td>2</td>\n",
       "    </tr>\n",
       "    <tr>\n",
       "      <th>18597</th>\n",
       "      <td>0.680409</td>\n",
       "      <td>0.870344</td>\n",
       "      <td>-0.215520</td>\n",
       "      <td>0.800006</td>\n",
       "      <td>0.741619</td>\n",
       "      <td>0.761701</td>\n",
       "      <td>0</td>\n",
       "      <td>3</td>\n",
       "      <td>3</td>\n",
       "    </tr>\n",
       "    <tr>\n",
       "      <th>8696</th>\n",
       "      <td>0.428642</td>\n",
       "      <td>-0.184601</td>\n",
       "      <td>-0.842473</td>\n",
       "      <td>0.612132</td>\n",
       "      <td>0.678527</td>\n",
       "      <td>0.524287</td>\n",
       "      <td>4</td>\n",
       "      <td>4</td>\n",
       "      <td>1</td>\n",
       "    </tr>\n",
       "    <tr>\n",
       "      <th>45468</th>\n",
       "      <td>-0.620388</td>\n",
       "      <td>0.589025</td>\n",
       "      <td>0.232304</td>\n",
       "      <td>-0.541953</td>\n",
       "      <td>-0.592345</td>\n",
       "      <td>-0.437864</td>\n",
       "      <td>1</td>\n",
       "      <td>3</td>\n",
       "      <td>3</td>\n",
       "    </tr>\n",
       "    <tr>\n",
       "      <th>4561</th>\n",
       "      <td>0.281778</td>\n",
       "      <td>-0.676909</td>\n",
       "      <td>2.023599</td>\n",
       "      <td>0.504775</td>\n",
       "      <td>0.552341</td>\n",
       "      <td>0.374342</td>\n",
       "      <td>3</td>\n",
       "      <td>2</td>\n",
       "      <td>1</td>\n",
       "    </tr>\n",
       "  </tbody>\n",
       "</table>\n",
       "</div>"
      ],
      "text/plain": [
       "              0         1         2         3         4         5  6  7  8\n",
       "8318   0.218836  0.307706 -1.111167  0.388472  0.435168  0.386837  2  4  2\n",
       "18597  0.680409  0.870344 -0.215520  0.800006  0.741619  0.761701  0  3  3\n",
       "8696   0.428642 -0.184601 -0.842473  0.612132  0.678527  0.524287  4  4  1\n",
       "45468 -0.620388  0.589025  0.232304 -0.541953 -0.592345 -0.437864  1  3  3\n",
       "4561   0.281778 -0.676909  2.023599  0.504775  0.552341  0.374342  3  2  1"
      ]
     },
     "execution_count": 29,
     "metadata": {},
     "output_type": "execute_result"
    }
   ],
   "source": [
    "processed_features = pd.concat([numeric_features, categorical_features], axis=1,\n",
    "                               ignore_index=True, sort=False)\n",
    "\n",
    "processed_features.head()"
   ]
  },
  {
   "cell_type": "code",
   "execution_count": 30,
   "metadata": {},
   "outputs": [],
   "source": [
    "x_train, x_test, y_train, y_test = train_test_split(processed_features,\n",
    "                                                    target,\n",
    "                                                    test_size=0.2, random_state=1)"
   ]
  },
  {
   "cell_type": "code",
   "execution_count": 31,
   "metadata": {},
   "outputs": [],
   "source": [
    "x_train_tensor = torch.tensor(x_train.values, dtype = torch.float)\n",
    "x_test_tensor = torch.tensor(x_test.values, dtype = torch.float)\n",
    "\n",
    "y_train_tensor = torch.tensor(y_train.values, dtype = torch.float)\n",
    "y_test_tensor = torch.tensor(y_test.values, dtype = torch.float)"
   ]
  },
  {
   "cell_type": "code",
   "execution_count": 32,
   "metadata": {},
   "outputs": [
    {
     "data": {
      "text/plain": [
       "(torch.Size([4000, 9]), torch.Size([4000, 1]))"
      ]
     },
     "execution_count": 32,
     "metadata": {},
     "output_type": "execute_result"
    }
   ],
   "source": [
    "x_train_tensor.shape, y_train_tensor.shape"
   ]
  },
  {
   "cell_type": "code",
   "execution_count": 33,
   "metadata": {},
   "outputs": [
    {
     "data": {
      "text/plain": [
       "(torch.Size([1000, 9]), torch.Size([1000, 1]))"
      ]
     },
     "execution_count": 33,
     "metadata": {},
     "output_type": "execute_result"
    }
   ],
   "source": [
    "x_test_tensor.shape, y_test_tensor.shape"
   ]
  },
  {
   "cell_type": "code",
   "execution_count": 34,
   "metadata": {},
   "outputs": [
    {
     "data": {
      "text/plain": [
       "tensor([[-0.8931,  0.9407, -0.6633, -1.0340, -1.0250, -0.8127,  3.0000,  1.0000,\n",
       "          4.0000],\n",
       "        [ 0.2188,  0.0264,  0.6801,  0.3616,  0.3901,  0.3244,  0.0000,  2.0000,\n",
       "          2.0000],\n",
       "        [-0.7463,  0.0967, -0.6633, -0.7298, -0.7636, -0.6378,  1.0000,  4.0000,\n",
       "          5.0000],\n",
       "        [-1.0400,  0.0264, -0.6633, -1.2398, -1.2233, -1.0626,  3.0000,  4.0000,\n",
       "          2.0000],\n",
       "        [ 0.4706, -0.1143,  1.1280,  0.7016,  0.6244,  0.5493,  1.0000,  3.0000,\n",
       "          3.0000]])"
      ]
     },
     "execution_count": 34,
     "metadata": {},
     "output_type": "execute_result"
    }
   ],
   "source": [
    "x_train_tensor[:5]"
   ]
  },
  {
   "cell_type": "code",
   "execution_count": 35,
   "metadata": {},
   "outputs": [
    {
     "data": {
      "text/plain": [
       "tensor([[ 746.],\n",
       "        [4291.],\n",
       "        [1334.],\n",
       "        [ 477.],\n",
       "        [6580.]])"
      ]
     },
     "execution_count": 35,
     "metadata": {},
     "output_type": "execute_result"
    }
   ],
   "source": [
    "y_train_tensor[:5]"
   ]
  },
  {
   "cell_type": "code",
   "execution_count": 36,
   "metadata": {},
   "outputs": [],
   "source": [
    "train_data = data_utils.TensorDataset(x_train_tensor, y_train_tensor)\n",
    "\n",
    "train_loader = data_utils.DataLoader(train_data, batch_size=500, shuffle=True)"
   ]
  },
  {
   "cell_type": "code",
   "execution_count": 37,
   "metadata": {},
   "outputs": [
    {
     "data": {
      "text/plain": [
       "8"
      ]
     },
     "execution_count": 37,
     "metadata": {},
     "output_type": "execute_result"
    }
   ],
   "source": [
    "len(train_loader)"
   ]
  },
  {
   "cell_type": "markdown",
   "metadata": {},
   "source": [
    "### By default reduction method in loss function is 'mean'"
   ]
  },
  {
   "cell_type": "code",
   "execution_count": 38,
   "metadata": {},
   "outputs": [],
   "source": [
    "input_layer = x_train_tensor.shape[1]\n",
    "\n",
    "output_layer = 1\n",
    "\n",
    "hidden_layer = 12\n",
    "\n",
    "loss_fn = torch.nn.MSELoss()"
   ]
  },
  {
   "cell_type": "markdown",
   "metadata": {},
   "source": [
    "## Below we are building two model \n",
    "#### First we will take the first model and run the code till end then we will take the second model and run the code till end"
   ]
  },
  {
   "cell_type": "code",
   "execution_count": 39,
   "metadata": {},
   "outputs": [],
   "source": [
    "model = torch.nn.Sequential(torch.nn.Linear(input_layer, hidden_layer),\n",
    "                            torch.nn.ReLU(),\n",
    "                            torch.nn.Dropout(0.4),\n",
    "                            torch.nn.Linear(hidden_layer, output_layer))\n",
    "\n",
    "optimizer = torch.optim.Adam(model.parameters(), lr = 0.01)"
   ]
  },
  {
   "cell_type": "code",
   "execution_count": 40,
   "metadata": {},
   "outputs": [
    {
     "name": "stdout",
     "output_type": "stream",
     "text": [
      "Epoch [1/1000], Step [1/8], Loss: 34094120.0000\n",
      "Epoch [1/1000], Step [2/8], Loss: 30813800.0000\n",
      "Epoch [1/1000], Step [3/8], Loss: 28472148.0000\n",
      "Epoch [1/1000], Step [4/8], Loss: 31692402.0000\n",
      "Epoch [1/1000], Step [5/8], Loss: 30898834.0000\n",
      "Epoch [1/1000], Step [6/8], Loss: 34006112.0000\n",
      "Epoch [1/1000], Step [7/8], Loss: 26161222.0000\n",
      "Epoch [1/1000], Step [8/8], Loss: 29781274.0000\n",
      "Epoch [21/1000], Step [1/8], Loss: 24235214.0000\n",
      "Epoch [21/1000], Step [2/8], Loss: 25289834.0000\n",
      "Epoch [21/1000], Step [3/8], Loss: 23485228.0000\n",
      "Epoch [21/1000], Step [4/8], Loss: 23664492.0000\n",
      "Epoch [21/1000], Step [5/8], Loss: 23282564.0000\n",
      "Epoch [21/1000], Step [6/8], Loss: 25873934.0000\n",
      "Epoch [21/1000], Step [7/8], Loss: 30851022.0000\n",
      "Epoch [21/1000], Step [8/8], Loss: 30083282.0000\n",
      "Epoch [41/1000], Step [1/8], Loss: 15019992.0000\n",
      "Epoch [41/1000], Step [2/8], Loss: 15672336.0000\n",
      "Epoch [41/1000], Step [3/8], Loss: 16456772.0000\n",
      "Epoch [41/1000], Step [4/8], Loss: 15343131.0000\n",
      "Epoch [41/1000], Step [5/8], Loss: 14091466.0000\n",
      "Epoch [41/1000], Step [6/8], Loss: 13302351.0000\n",
      "Epoch [41/1000], Step [7/8], Loss: 13748708.0000\n",
      "Epoch [41/1000], Step [8/8], Loss: 16184049.0000\n",
      "Epoch [61/1000], Step [1/8], Loss: 8476940.0000\n",
      "Epoch [61/1000], Step [2/8], Loss: 8674896.0000\n",
      "Epoch [61/1000], Step [3/8], Loss: 7719187.0000\n",
      "Epoch [61/1000], Step [4/8], Loss: 9433840.0000\n",
      "Epoch [61/1000], Step [5/8], Loss: 10197494.0000\n",
      "Epoch [61/1000], Step [6/8], Loss: 9894224.0000\n",
      "Epoch [61/1000], Step [7/8], Loss: 9529863.0000\n",
      "Epoch [61/1000], Step [8/8], Loss: 6964009.5000\n",
      "Epoch [81/1000], Step [1/8], Loss: 8113630.5000\n",
      "Epoch [81/1000], Step [2/8], Loss: 6163570.5000\n",
      "Epoch [81/1000], Step [3/8], Loss: 6814846.0000\n",
      "Epoch [81/1000], Step [4/8], Loss: 5915938.0000\n",
      "Epoch [81/1000], Step [5/8], Loss: 7952165.0000\n",
      "Epoch [81/1000], Step [6/8], Loss: 7045605.0000\n",
      "Epoch [81/1000], Step [7/8], Loss: 7043143.5000\n",
      "Epoch [81/1000], Step [8/8], Loss: 7639669.0000\n",
      "Epoch [101/1000], Step [1/8], Loss: 6300059.0000\n",
      "Epoch [101/1000], Step [2/8], Loss: 5024474.0000\n",
      "Epoch [101/1000], Step [3/8], Loss: 4959434.0000\n",
      "Epoch [101/1000], Step [4/8], Loss: 6138914.0000\n",
      "Epoch [101/1000], Step [5/8], Loss: 5303003.5000\n",
      "Epoch [101/1000], Step [6/8], Loss: 6020081.5000\n",
      "Epoch [101/1000], Step [7/8], Loss: 5377295.0000\n",
      "Epoch [101/1000], Step [8/8], Loss: 6256165.0000\n",
      "Epoch [121/1000], Step [1/8], Loss: 5680811.5000\n",
      "Epoch [121/1000], Step [2/8], Loss: 5655080.0000\n",
      "Epoch [121/1000], Step [3/8], Loss: 5425990.0000\n",
      "Epoch [121/1000], Step [4/8], Loss: 4486316.0000\n",
      "Epoch [121/1000], Step [5/8], Loss: 5591285.0000\n",
      "Epoch [121/1000], Step [6/8], Loss: 4760790.5000\n",
      "Epoch [121/1000], Step [7/8], Loss: 4443350.0000\n",
      "Epoch [121/1000], Step [8/8], Loss: 5228717.5000\n",
      "Epoch [141/1000], Step [1/8], Loss: 4557962.0000\n",
      "Epoch [141/1000], Step [2/8], Loss: 4211176.5000\n",
      "Epoch [141/1000], Step [3/8], Loss: 4497606.0000\n",
      "Epoch [141/1000], Step [4/8], Loss: 3961558.2500\n",
      "Epoch [141/1000], Step [5/8], Loss: 3791999.2500\n",
      "Epoch [141/1000], Step [6/8], Loss: 4855703.5000\n",
      "Epoch [141/1000], Step [7/8], Loss: 6470967.5000\n",
      "Epoch [141/1000], Step [8/8], Loss: 3820159.0000\n",
      "Epoch [161/1000], Step [1/8], Loss: 4104975.5000\n",
      "Epoch [161/1000], Step [2/8], Loss: 4041477.0000\n",
      "Epoch [161/1000], Step [3/8], Loss: 3588895.2500\n",
      "Epoch [161/1000], Step [4/8], Loss: 3840321.2500\n",
      "Epoch [161/1000], Step [5/8], Loss: 3798235.5000\n",
      "Epoch [161/1000], Step [6/8], Loss: 3719400.2500\n",
      "Epoch [161/1000], Step [7/8], Loss: 4286113.0000\n",
      "Epoch [161/1000], Step [8/8], Loss: 4158347.0000\n",
      "Epoch [181/1000], Step [1/8], Loss: 3652769.2500\n",
      "Epoch [181/1000], Step [2/8], Loss: 3707684.0000\n",
      "Epoch [181/1000], Step [3/8], Loss: 4106991.7500\n",
      "Epoch [181/1000], Step [4/8], Loss: 3108438.7500\n",
      "Epoch [181/1000], Step [5/8], Loss: 2830841.2500\n",
      "Epoch [181/1000], Step [6/8], Loss: 3650891.0000\n",
      "Epoch [181/1000], Step [7/8], Loss: 3075727.0000\n",
      "Epoch [181/1000], Step [8/8], Loss: 6067081.0000\n",
      "Epoch [201/1000], Step [1/8], Loss: 3512488.5000\n",
      "Epoch [201/1000], Step [2/8], Loss: 2795191.0000\n",
      "Epoch [201/1000], Step [3/8], Loss: 5745587.0000\n",
      "Epoch [201/1000], Step [4/8], Loss: 3185098.0000\n",
      "Epoch [201/1000], Step [5/8], Loss: 2709524.5000\n",
      "Epoch [201/1000], Step [6/8], Loss: 3208366.0000\n",
      "Epoch [201/1000], Step [7/8], Loss: 3162135.2500\n",
      "Epoch [201/1000], Step [8/8], Loss: 3298773.2500\n",
      "Epoch [221/1000], Step [1/8], Loss: 3912408.0000\n",
      "Epoch [221/1000], Step [2/8], Loss: 3328001.0000\n",
      "Epoch [221/1000], Step [3/8], Loss: 2649005.2500\n",
      "Epoch [221/1000], Step [4/8], Loss: 3383675.2500\n",
      "Epoch [221/1000], Step [5/8], Loss: 2879409.0000\n",
      "Epoch [221/1000], Step [6/8], Loss: 3636685.2500\n",
      "Epoch [221/1000], Step [7/8], Loss: 2572919.0000\n",
      "Epoch [221/1000], Step [8/8], Loss: 4672333.5000\n",
      "Epoch [241/1000], Step [1/8], Loss: 2526165.5000\n",
      "Epoch [241/1000], Step [2/8], Loss: 3149763.5000\n",
      "Epoch [241/1000], Step [3/8], Loss: 2974263.2500\n",
      "Epoch [241/1000], Step [4/8], Loss: 3318811.5000\n",
      "Epoch [241/1000], Step [5/8], Loss: 3104249.2500\n",
      "Epoch [241/1000], Step [6/8], Loss: 2925649.2500\n",
      "Epoch [241/1000], Step [7/8], Loss: 2573842.7500\n",
      "Epoch [241/1000], Step [8/8], Loss: 2396188.0000\n",
      "Epoch [261/1000], Step [1/8], Loss: 2895737.0000\n",
      "Epoch [261/1000], Step [2/8], Loss: 3743705.0000\n",
      "Epoch [261/1000], Step [3/8], Loss: 2675289.5000\n",
      "Epoch [261/1000], Step [4/8], Loss: 2487605.0000\n",
      "Epoch [261/1000], Step [5/8], Loss: 2732554.0000\n",
      "Epoch [261/1000], Step [6/8], Loss: 3003506.5000\n",
      "Epoch [261/1000], Step [7/8], Loss: 5139625.0000\n",
      "Epoch [261/1000], Step [8/8], Loss: 2762277.7500\n",
      "Epoch [281/1000], Step [1/8], Loss: 3011841.0000\n",
      "Epoch [281/1000], Step [2/8], Loss: 3896215.0000\n",
      "Epoch [281/1000], Step [3/8], Loss: 3511508.7500\n",
      "Epoch [281/1000], Step [4/8], Loss: 2439843.2500\n",
      "Epoch [281/1000], Step [5/8], Loss: 2986225.7500\n",
      "Epoch [281/1000], Step [6/8], Loss: 3289947.2500\n",
      "Epoch [281/1000], Step [7/8], Loss: 2924360.2500\n",
      "Epoch [281/1000], Step [8/8], Loss: 2302811.0000\n",
      "Epoch [301/1000], Step [1/8], Loss: 2676545.5000\n",
      "Epoch [301/1000], Step [2/8], Loss: 3388924.2500\n",
      "Epoch [301/1000], Step [3/8], Loss: 4674910.5000\n",
      "Epoch [301/1000], Step [4/8], Loss: 3075392.2500\n",
      "Epoch [301/1000], Step [5/8], Loss: 2561434.0000\n",
      "Epoch [301/1000], Step [6/8], Loss: 2789445.0000\n",
      "Epoch [301/1000], Step [7/8], Loss: 2375114.7500\n",
      "Epoch [301/1000], Step [8/8], Loss: 2103405.5000\n",
      "Epoch [321/1000], Step [1/8], Loss: 2750054.5000\n",
      "Epoch [321/1000], Step [2/8], Loss: 3784041.7500\n",
      "Epoch [321/1000], Step [3/8], Loss: 3202566.7500\n",
      "Epoch [321/1000], Step [4/8], Loss: 3036550.7500\n",
      "Epoch [321/1000], Step [5/8], Loss: 3701050.2500\n",
      "Epoch [321/1000], Step [6/8], Loss: 2311872.7500\n",
      "Epoch [321/1000], Step [7/8], Loss: 2702967.2500\n",
      "Epoch [321/1000], Step [8/8], Loss: 2529784.5000\n",
      "Epoch [341/1000], Step [1/8], Loss: 2846422.5000\n",
      "Epoch [341/1000], Step [2/8], Loss: 2589786.2500\n",
      "Epoch [341/1000], Step [3/8], Loss: 3024425.2500\n",
      "Epoch [341/1000], Step [4/8], Loss: 2194947.2500\n",
      "Epoch [341/1000], Step [5/8], Loss: 3251267.0000\n",
      "Epoch [341/1000], Step [6/8], Loss: 4212337.0000\n",
      "Epoch [341/1000], Step [7/8], Loss: 3110912.2500\n",
      "Epoch [341/1000], Step [8/8], Loss: 2214998.2500\n",
      "Epoch [361/1000], Step [1/8], Loss: 2442789.0000\n",
      "Epoch [361/1000], Step [2/8], Loss: 2916445.2500\n",
      "Epoch [361/1000], Step [3/8], Loss: 3937621.2500\n",
      "Epoch [361/1000], Step [4/8], Loss: 2573509.5000\n",
      "Epoch [361/1000], Step [5/8], Loss: 2399714.2500\n",
      "Epoch [361/1000], Step [6/8], Loss: 3442167.7500\n",
      "Epoch [361/1000], Step [7/8], Loss: 2659222.7500\n",
      "Epoch [361/1000], Step [8/8], Loss: 2662832.7500\n",
      "Epoch [381/1000], Step [1/8], Loss: 3648193.7500\n",
      "Epoch [381/1000], Step [2/8], Loss: 2733538.5000\n",
      "Epoch [381/1000], Step [3/8], Loss: 3113070.7500\n",
      "Epoch [381/1000], Step [4/8], Loss: 1762059.0000\n",
      "Epoch [381/1000], Step [5/8], Loss: 2967036.2500\n",
      "Epoch [381/1000], Step [6/8], Loss: 2429390.7500\n",
      "Epoch [381/1000], Step [7/8], Loss: 2448602.0000\n",
      "Epoch [381/1000], Step [8/8], Loss: 3551023.2500\n",
      "Epoch [401/1000], Step [1/8], Loss: 3022874.5000\n",
      "Epoch [401/1000], Step [2/8], Loss: 3546200.2500\n",
      "Epoch [401/1000], Step [3/8], Loss: 2968049.2500\n",
      "Epoch [401/1000], Step [4/8], Loss: 2603393.2500\n",
      "Epoch [401/1000], Step [5/8], Loss: 2797866.2500\n",
      "Epoch [401/1000], Step [6/8], Loss: 2940049.0000\n",
      "Epoch [401/1000], Step [7/8], Loss: 3138172.0000\n",
      "Epoch [401/1000], Step [8/8], Loss: 2426387.0000\n"
     ]
    },
    {
     "name": "stdout",
     "output_type": "stream",
     "text": [
      "Epoch [421/1000], Step [1/8], Loss: 3652053.2500\n",
      "Epoch [421/1000], Step [2/8], Loss: 3184231.0000\n",
      "Epoch [421/1000], Step [3/8], Loss: 1891195.3750\n",
      "Epoch [421/1000], Step [4/8], Loss: 2213218.2500\n",
      "Epoch [421/1000], Step [5/8], Loss: 2619858.5000\n",
      "Epoch [421/1000], Step [6/8], Loss: 2812171.5000\n",
      "Epoch [421/1000], Step [7/8], Loss: 2945337.2500\n",
      "Epoch [421/1000], Step [8/8], Loss: 2999273.7500\n",
      "Epoch [441/1000], Step [1/8], Loss: 2610446.2500\n",
      "Epoch [441/1000], Step [2/8], Loss: 2607303.5000\n",
      "Epoch [441/1000], Step [3/8], Loss: 3593313.5000\n",
      "Epoch [441/1000], Step [4/8], Loss: 2618090.5000\n",
      "Epoch [441/1000], Step [5/8], Loss: 2911104.2500\n",
      "Epoch [441/1000], Step [6/8], Loss: 3154291.5000\n",
      "Epoch [441/1000], Step [7/8], Loss: 2425675.7500\n",
      "Epoch [441/1000], Step [8/8], Loss: 2088413.2500\n",
      "Epoch [461/1000], Step [1/8], Loss: 3064638.2500\n",
      "Epoch [461/1000], Step [2/8], Loss: 2840023.2500\n",
      "Epoch [461/1000], Step [3/8], Loss: 3129776.5000\n",
      "Epoch [461/1000], Step [4/8], Loss: 2976977.5000\n",
      "Epoch [461/1000], Step [5/8], Loss: 3407248.2500\n",
      "Epoch [461/1000], Step [6/8], Loss: 2733820.2500\n",
      "Epoch [461/1000], Step [7/8], Loss: 2046806.2500\n",
      "Epoch [461/1000], Step [8/8], Loss: 2746958.7500\n",
      "Epoch [481/1000], Step [1/8], Loss: 2431432.5000\n",
      "Epoch [481/1000], Step [2/8], Loss: 2749850.2500\n",
      "Epoch [481/1000], Step [3/8], Loss: 2782709.0000\n",
      "Epoch [481/1000], Step [4/8], Loss: 2487101.2500\n",
      "Epoch [481/1000], Step [5/8], Loss: 3006620.5000\n",
      "Epoch [481/1000], Step [6/8], Loss: 2780468.5000\n",
      "Epoch [481/1000], Step [7/8], Loss: 2319550.2500\n",
      "Epoch [481/1000], Step [8/8], Loss: 2784979.0000\n",
      "Epoch [501/1000], Step [1/8], Loss: 2799590.0000\n",
      "Epoch [501/1000], Step [2/8], Loss: 2698499.5000\n",
      "Epoch [501/1000], Step [3/8], Loss: 2724485.5000\n",
      "Epoch [501/1000], Step [4/8], Loss: 2398798.5000\n",
      "Epoch [501/1000], Step [5/8], Loss: 2415995.7500\n",
      "Epoch [501/1000], Step [6/8], Loss: 2806298.2500\n",
      "Epoch [501/1000], Step [7/8], Loss: 3204251.0000\n",
      "Epoch [501/1000], Step [8/8], Loss: 2552952.5000\n",
      "Epoch [521/1000], Step [1/8], Loss: 2065373.6250\n",
      "Epoch [521/1000], Step [2/8], Loss: 2252842.2500\n",
      "Epoch [521/1000], Step [3/8], Loss: 2791200.7500\n",
      "Epoch [521/1000], Step [4/8], Loss: 2525528.2500\n",
      "Epoch [521/1000], Step [5/8], Loss: 2804876.0000\n",
      "Epoch [521/1000], Step [6/8], Loss: 2486923.2500\n",
      "Epoch [521/1000], Step [7/8], Loss: 3073689.2500\n",
      "Epoch [521/1000], Step [8/8], Loss: 2248159.5000\n",
      "Epoch [541/1000], Step [1/8], Loss: 2317029.5000\n",
      "Epoch [541/1000], Step [2/8], Loss: 2817040.2500\n",
      "Epoch [541/1000], Step [3/8], Loss: 2667046.2500\n",
      "Epoch [541/1000], Step [4/8], Loss: 3063043.2500\n",
      "Epoch [541/1000], Step [5/8], Loss: 3000822.0000\n",
      "Epoch [541/1000], Step [6/8], Loss: 2191326.0000\n",
      "Epoch [541/1000], Step [7/8], Loss: 2943172.2500\n",
      "Epoch [541/1000], Step [8/8], Loss: 2514693.7500\n",
      "Epoch [561/1000], Step [1/8], Loss: 2726842.0000\n",
      "Epoch [561/1000], Step [2/8], Loss: 3524295.0000\n",
      "Epoch [561/1000], Step [3/8], Loss: 3176252.0000\n",
      "Epoch [561/1000], Step [4/8], Loss: 2493858.0000\n",
      "Epoch [561/1000], Step [5/8], Loss: 2673773.5000\n",
      "Epoch [561/1000], Step [6/8], Loss: 2355628.5000\n",
      "Epoch [561/1000], Step [7/8], Loss: 3100004.7500\n",
      "Epoch [561/1000], Step [8/8], Loss: 2313813.0000\n",
      "Epoch [581/1000], Step [1/8], Loss: 3555375.2500\n",
      "Epoch [581/1000], Step [2/8], Loss: 2079106.2500\n",
      "Epoch [581/1000], Step [3/8], Loss: 2536968.0000\n",
      "Epoch [581/1000], Step [4/8], Loss: 3005008.5000\n",
      "Epoch [581/1000], Step [5/8], Loss: 2126129.0000\n",
      "Epoch [581/1000], Step [6/8], Loss: 2301066.2500\n",
      "Epoch [581/1000], Step [7/8], Loss: 2693930.0000\n",
      "Epoch [581/1000], Step [8/8], Loss: 2798886.7500\n",
      "Epoch [601/1000], Step [1/8], Loss: 2239269.5000\n",
      "Epoch [601/1000], Step [2/8], Loss: 2379647.5000\n",
      "Epoch [601/1000], Step [3/8], Loss: 2175639.2500\n",
      "Epoch [601/1000], Step [4/8], Loss: 2421307.0000\n",
      "Epoch [601/1000], Step [5/8], Loss: 1877167.2500\n",
      "Epoch [601/1000], Step [6/8], Loss: 3151737.5000\n",
      "Epoch [601/1000], Step [7/8], Loss: 3763156.2500\n",
      "Epoch [601/1000], Step [8/8], Loss: 2553318.7500\n",
      "Epoch [621/1000], Step [1/8], Loss: 2480409.2500\n",
      "Epoch [621/1000], Step [2/8], Loss: 2924882.0000\n",
      "Epoch [621/1000], Step [3/8], Loss: 2884999.2500\n",
      "Epoch [621/1000], Step [4/8], Loss: 2187404.2500\n",
      "Epoch [621/1000], Step [5/8], Loss: 2899053.5000\n",
      "Epoch [621/1000], Step [6/8], Loss: 2806494.0000\n",
      "Epoch [621/1000], Step [7/8], Loss: 2102656.2500\n",
      "Epoch [621/1000], Step [8/8], Loss: 2253390.7500\n",
      "Epoch [641/1000], Step [1/8], Loss: 2872419.0000\n",
      "Epoch [641/1000], Step [2/8], Loss: 2617990.0000\n",
      "Epoch [641/1000], Step [3/8], Loss: 2795941.0000\n",
      "Epoch [641/1000], Step [4/8], Loss: 2408192.5000\n",
      "Epoch [641/1000], Step [5/8], Loss: 2451307.7500\n",
      "Epoch [641/1000], Step [6/8], Loss: 3517012.2500\n",
      "Epoch [641/1000], Step [7/8], Loss: 2326584.0000\n",
      "Epoch [641/1000], Step [8/8], Loss: 3026359.0000\n",
      "Epoch [661/1000], Step [1/8], Loss: 3019205.0000\n",
      "Epoch [661/1000], Step [2/8], Loss: 2337423.5000\n",
      "Epoch [661/1000], Step [3/8], Loss: 2289127.2500\n",
      "Epoch [661/1000], Step [4/8], Loss: 2863945.5000\n",
      "Epoch [661/1000], Step [5/8], Loss: 2343308.5000\n",
      "Epoch [661/1000], Step [6/8], Loss: 3686463.5000\n",
      "Epoch [661/1000], Step [7/8], Loss: 2663023.0000\n",
      "Epoch [661/1000], Step [8/8], Loss: 2306953.7500\n",
      "Epoch [681/1000], Step [1/8], Loss: 2907346.5000\n",
      "Epoch [681/1000], Step [2/8], Loss: 3415750.5000\n",
      "Epoch [681/1000], Step [3/8], Loss: 2853610.2500\n",
      "Epoch [681/1000], Step [4/8], Loss: 2175796.2500\n",
      "Epoch [681/1000], Step [5/8], Loss: 2428568.0000\n",
      "Epoch [681/1000], Step [6/8], Loss: 2359568.7500\n",
      "Epoch [681/1000], Step [7/8], Loss: 3099455.5000\n",
      "Epoch [681/1000], Step [8/8], Loss: 2087507.3750\n",
      "Epoch [701/1000], Step [1/8], Loss: 2518272.2500\n",
      "Epoch [701/1000], Step [2/8], Loss: 3003103.0000\n",
      "Epoch [701/1000], Step [3/8], Loss: 2160976.7500\n",
      "Epoch [701/1000], Step [4/8], Loss: 2147182.7500\n",
      "Epoch [701/1000], Step [5/8], Loss: 2582991.7500\n",
      "Epoch [701/1000], Step [6/8], Loss: 2606745.2500\n",
      "Epoch [701/1000], Step [7/8], Loss: 2717305.2500\n",
      "Epoch [701/1000], Step [8/8], Loss: 2620003.7500\n",
      "Epoch [721/1000], Step [1/8], Loss: 2836788.2500\n",
      "Epoch [721/1000], Step [2/8], Loss: 2455503.2500\n",
      "Epoch [721/1000], Step [3/8], Loss: 2514721.7500\n",
      "Epoch [721/1000], Step [4/8], Loss: 2433125.7500\n",
      "Epoch [721/1000], Step [5/8], Loss: 2873275.7500\n",
      "Epoch [721/1000], Step [6/8], Loss: 2181365.7500\n",
      "Epoch [721/1000], Step [7/8], Loss: 2710882.5000\n",
      "Epoch [721/1000], Step [8/8], Loss: 2751387.0000\n",
      "Epoch [741/1000], Step [1/8], Loss: 2440191.2500\n",
      "Epoch [741/1000], Step [2/8], Loss: 2672393.7500\n",
      "Epoch [741/1000], Step [3/8], Loss: 2756650.0000\n",
      "Epoch [741/1000], Step [4/8], Loss: 2820535.5000\n",
      "Epoch [741/1000], Step [5/8], Loss: 2172507.7500\n",
      "Epoch [741/1000], Step [6/8], Loss: 2293120.5000\n",
      "Epoch [741/1000], Step [7/8], Loss: 3238071.5000\n",
      "Epoch [741/1000], Step [8/8], Loss: 2250052.5000\n",
      "Epoch [761/1000], Step [1/8], Loss: 2410435.2500\n",
      "Epoch [761/1000], Step [2/8], Loss: 2246031.5000\n",
      "Epoch [761/1000], Step [3/8], Loss: 2806100.0000\n",
      "Epoch [761/1000], Step [4/8], Loss: 2603927.7500\n",
      "Epoch [761/1000], Step [5/8], Loss: 2879696.5000\n",
      "Epoch [761/1000], Step [6/8], Loss: 2569772.5000\n",
      "Epoch [761/1000], Step [7/8], Loss: 2239016.5000\n",
      "Epoch [761/1000], Step [8/8], Loss: 3902205.7500\n",
      "Epoch [781/1000], Step [1/8], Loss: 2312304.5000\n",
      "Epoch [781/1000], Step [2/8], Loss: 2423128.5000\n",
      "Epoch [781/1000], Step [3/8], Loss: 3316972.2500\n",
      "Epoch [781/1000], Step [4/8], Loss: 2462546.7500\n",
      "Epoch [781/1000], Step [5/8], Loss: 2926692.7500\n",
      "Epoch [781/1000], Step [6/8], Loss: 3023625.0000\n",
      "Epoch [781/1000], Step [7/8], Loss: 2238170.2500\n",
      "Epoch [781/1000], Step [8/8], Loss: 2683618.0000\n",
      "Epoch [801/1000], Step [1/8], Loss: 2336550.5000\n",
      "Epoch [801/1000], Step [2/8], Loss: 2376516.7500\n",
      "Epoch [801/1000], Step [3/8], Loss: 3014789.0000\n",
      "Epoch [801/1000], Step [4/8], Loss: 2910633.0000\n",
      "Epoch [801/1000], Step [5/8], Loss: 2715254.0000\n",
      "Epoch [801/1000], Step [6/8], Loss: 2493557.7500\n",
      "Epoch [801/1000], Step [7/8], Loss: 3151157.7500\n",
      "Epoch [801/1000], Step [8/8], Loss: 3473032.7500\n",
      "Epoch [821/1000], Step [1/8], Loss: 2386425.2500\n",
      "Epoch [821/1000], Step [2/8], Loss: 3087840.2500\n",
      "Epoch [821/1000], Step [3/8], Loss: 2403197.0000\n",
      "Epoch [821/1000], Step [4/8], Loss: 2699884.7500\n",
      "Epoch [821/1000], Step [5/8], Loss: 2439341.5000\n",
      "Epoch [821/1000], Step [6/8], Loss: 4027027.5000\n",
      "Epoch [821/1000], Step [7/8], Loss: 3149067.2500\n",
      "Epoch [821/1000], Step [8/8], Loss: 2094030.1250\n"
     ]
    },
    {
     "name": "stdout",
     "output_type": "stream",
     "text": [
      "Epoch [841/1000], Step [1/8], Loss: 1935812.6250\n",
      "Epoch [841/1000], Step [2/8], Loss: 2015982.7500\n",
      "Epoch [841/1000], Step [3/8], Loss: 2789608.0000\n",
      "Epoch [841/1000], Step [4/8], Loss: 3183933.5000\n",
      "Epoch [841/1000], Step [5/8], Loss: 3247839.5000\n",
      "Epoch [841/1000], Step [6/8], Loss: 2140039.7500\n",
      "Epoch [841/1000], Step [7/8], Loss: 2163870.0000\n",
      "Epoch [841/1000], Step [8/8], Loss: 3210341.0000\n",
      "Epoch [861/1000], Step [1/8], Loss: 2396885.5000\n",
      "Epoch [861/1000], Step [2/8], Loss: 2568460.2500\n",
      "Epoch [861/1000], Step [3/8], Loss: 3548974.2500\n",
      "Epoch [861/1000], Step [4/8], Loss: 2328786.0000\n",
      "Epoch [861/1000], Step [5/8], Loss: 2273414.7500\n",
      "Epoch [861/1000], Step [6/8], Loss: 2518556.5000\n",
      "Epoch [861/1000], Step [7/8], Loss: 2437756.5000\n",
      "Epoch [861/1000], Step [8/8], Loss: 3052073.0000\n",
      "Epoch [881/1000], Step [1/8], Loss: 2725145.0000\n",
      "Epoch [881/1000], Step [2/8], Loss: 2612536.0000\n",
      "Epoch [881/1000], Step [3/8], Loss: 2670415.0000\n",
      "Epoch [881/1000], Step [4/8], Loss: 2222984.2500\n",
      "Epoch [881/1000], Step [5/8], Loss: 2660218.2500\n",
      "Epoch [881/1000], Step [6/8], Loss: 2220927.2500\n",
      "Epoch [881/1000], Step [7/8], Loss: 3060928.7500\n",
      "Epoch [881/1000], Step [8/8], Loss: 2440499.0000\n",
      "Epoch [901/1000], Step [1/8], Loss: 2838011.0000\n",
      "Epoch [901/1000], Step [2/8], Loss: 2048752.0000\n",
      "Epoch [901/1000], Step [3/8], Loss: 2440659.0000\n",
      "Epoch [901/1000], Step [4/8], Loss: 3355884.7500\n",
      "Epoch [901/1000], Step [5/8], Loss: 2972235.7500\n",
      "Epoch [901/1000], Step [6/8], Loss: 2796636.7500\n",
      "Epoch [901/1000], Step [7/8], Loss: 2535223.0000\n",
      "Epoch [901/1000], Step [8/8], Loss: 2450189.7500\n",
      "Epoch [921/1000], Step [1/8], Loss: 2496264.7500\n",
      "Epoch [921/1000], Step [2/8], Loss: 3533502.7500\n",
      "Epoch [921/1000], Step [3/8], Loss: 2595837.5000\n",
      "Epoch [921/1000], Step [4/8], Loss: 2502420.2500\n",
      "Epoch [921/1000], Step [5/8], Loss: 2161624.5000\n",
      "Epoch [921/1000], Step [6/8], Loss: 2061544.1250\n",
      "Epoch [921/1000], Step [7/8], Loss: 2703485.7500\n",
      "Epoch [921/1000], Step [8/8], Loss: 2470798.5000\n",
      "Epoch [941/1000], Step [1/8], Loss: 2546369.2500\n",
      "Epoch [941/1000], Step [2/8], Loss: 1849140.3750\n",
      "Epoch [941/1000], Step [3/8], Loss: 2685455.5000\n",
      "Epoch [941/1000], Step [4/8], Loss: 3278834.0000\n",
      "Epoch [941/1000], Step [5/8], Loss: 2255643.0000\n",
      "Epoch [941/1000], Step [6/8], Loss: 2619984.5000\n",
      "Epoch [941/1000], Step [7/8], Loss: 2524779.2500\n",
      "Epoch [941/1000], Step [8/8], Loss: 2938561.7500\n",
      "Epoch [961/1000], Step [1/8], Loss: 2438879.5000\n",
      "Epoch [961/1000], Step [2/8], Loss: 2400630.7500\n",
      "Epoch [961/1000], Step [3/8], Loss: 3474942.7500\n",
      "Epoch [961/1000], Step [4/8], Loss: 2083296.3750\n",
      "Epoch [961/1000], Step [5/8], Loss: 2474498.7500\n",
      "Epoch [961/1000], Step [6/8], Loss: 2634280.2500\n",
      "Epoch [961/1000], Step [7/8], Loss: 2797728.0000\n",
      "Epoch [961/1000], Step [8/8], Loss: 2315551.2500\n",
      "Epoch [981/1000], Step [1/8], Loss: 3366658.7500\n",
      "Epoch [981/1000], Step [2/8], Loss: 3414893.7500\n",
      "Epoch [981/1000], Step [3/8], Loss: 2717073.7500\n",
      "Epoch [981/1000], Step [4/8], Loss: 2750298.5000\n",
      "Epoch [981/1000], Step [5/8], Loss: 2755758.7500\n",
      "Epoch [981/1000], Step [6/8], Loss: 2789209.5000\n",
      "Epoch [981/1000], Step [7/8], Loss: 3336971.2500\n",
      "Epoch [981/1000], Step [8/8], Loss: 2623819.7500\n",
      "Epoch [1001/1000], Step [1/8], Loss: 2805692.5000\n",
      "Epoch [1001/1000], Step [2/8], Loss: 2721848.5000\n",
      "Epoch [1001/1000], Step [3/8], Loss: 2331995.0000\n",
      "Epoch [1001/1000], Step [4/8], Loss: 2590691.5000\n",
      "Epoch [1001/1000], Step [5/8], Loss: 2643895.7500\n",
      "Epoch [1001/1000], Step [6/8], Loss: 1902858.5000\n",
      "Epoch [1001/1000], Step [7/8], Loss: 2644466.0000\n",
      "Epoch [1001/1000], Step [8/8], Loss: 2798448.5000\n"
     ]
    }
   ],
   "source": [
    "total_step = len(train_loader)\n",
    "\n",
    "num_epochs = 1000\n",
    "\n",
    "for epoch in range(num_epochs + 1):\n",
    "    for i, (features, target) in enumerate(train_loader):\n",
    "        output = model(features)\n",
    "        loss = loss_fn(output, target)\n",
    "        \n",
    "        optimizer.zero_grad()\n",
    "        \n",
    "        loss.backward()\n",
    "        \n",
    "        optimizer.step()\n",
    "        \n",
    "        if epoch % 20 == 0:\n",
    "            print('Epoch [{}/{}], Step [{}/{}], Loss: {:.4f}'\n",
    "                  .format(epoch+1, num_epochs, i+1, total_step, loss.item()), flush=True)"
   ]
  },
  {
   "cell_type": "code",
   "execution_count": 41,
   "metadata": {},
   "outputs": [
    {
     "data": {
      "text/plain": [
       "Sequential(\n",
       "  (0): Linear(in_features=9, out_features=12, bias=True)\n",
       "  (1): ReLU()\n",
       "  (2): Dropout(p=0.4, inplace=False)\n",
       "  (3): Linear(in_features=12, out_features=1, bias=True)\n",
       ")"
      ]
     },
     "execution_count": 41,
     "metadata": {},
     "output_type": "execute_result"
    }
   ],
   "source": [
    "model.eval()"
   ]
  },
  {
   "cell_type": "code",
   "execution_count": 42,
   "metadata": {},
   "outputs": [
    {
     "name": "stdout",
     "output_type": "stream",
     "text": [
      "Predicted price:  437.86639404296875\n",
      "Actual price:  price    577\n",
      "Name: 6728, dtype: int64\n"
     ]
    }
   ],
   "source": [
    "sample = x_test.iloc[10]\n",
    "\n",
    "sample_tensor = torch.tensor(sample.values,\n",
    "                             dtype = torch.float)\n",
    "\n",
    "with torch.no_grad():\n",
    "    y_pred = model(sample_tensor)\n",
    "    \n",
    "print(\"Predicted price: \", (y_pred.item()))\n",
    "print(\"Actual price: \", (y_test.iloc[10]))"
   ]
  },
  {
   "cell_type": "code",
   "execution_count": 43,
   "metadata": {},
   "outputs": [
    {
     "name": "stdout",
     "output_type": "stream",
     "text": [
      "Predicted price:  406.6786193847656\n",
      "Actual price:  price    561\n",
      "Name: 2070, dtype: int64\n"
     ]
    }
   ],
   "source": [
    "sample = x_test.iloc[20]\n",
    "\n",
    "sample_tensor = torch.tensor(sample.values,\n",
    "                             dtype = torch.float)\n",
    "\n",
    "with torch.no_grad():\n",
    "    y_pred = model(sample_tensor)\n",
    "    \n",
    "print(\"Predicted price: \", (y_pred.item()))\n",
    "print(\"Actual price: \", (y_test.iloc[20]))"
   ]
  },
  {
   "cell_type": "code",
   "execution_count": 44,
   "metadata": {},
   "outputs": [],
   "source": [
    "with torch.no_grad():\n",
    "    y_pred_tensor = model(x_test_tensor)"
   ]
  },
  {
   "cell_type": "code",
   "execution_count": 45,
   "metadata": {},
   "outputs": [
    {
     "data": {
      "text/plain": [
       "(1000, 1)"
      ]
     },
     "execution_count": 45,
     "metadata": {},
     "output_type": "execute_result"
    }
   ],
   "source": [
    "y_pred = y_pred_tensor.detach().numpy()\n",
    "\n",
    "y_pred.shape"
   ]
  },
  {
   "cell_type": "code",
   "execution_count": 46,
   "metadata": {},
   "outputs": [
    {
     "data": {
      "text/plain": [
       "(1000, 1)"
      ]
     },
     "execution_count": 46,
     "metadata": {},
     "output_type": "execute_result"
    }
   ],
   "source": [
    "y_test.values.shape"
   ]
  },
  {
   "cell_type": "code",
   "execution_count": 47,
   "metadata": {},
   "outputs": [
    {
     "data": {
      "text/html": [
       "<div>\n",
       "<style scoped>\n",
       "    .dataframe tbody tr th:only-of-type {\n",
       "        vertical-align: middle;\n",
       "    }\n",
       "\n",
       "    .dataframe tbody tr th {\n",
       "        vertical-align: top;\n",
       "    }\n",
       "\n",
       "    .dataframe thead th {\n",
       "        text-align: right;\n",
       "    }\n",
       "</style>\n",
       "<table border=\"1\" class=\"dataframe\">\n",
       "  <thead>\n",
       "    <tr style=\"text-align: right;\">\n",
       "      <th></th>\n",
       "      <th>Actual price</th>\n",
       "      <th>Predicted price</th>\n",
       "    </tr>\n",
       "  </thead>\n",
       "  <tbody>\n",
       "    <tr>\n",
       "      <th>668</th>\n",
       "      <td>533</td>\n",
       "      <td>919.538452</td>\n",
       "    </tr>\n",
       "    <tr>\n",
       "      <th>712</th>\n",
       "      <td>10098</td>\n",
       "      <td>9255.534180</td>\n",
       "    </tr>\n",
       "    <tr>\n",
       "      <th>646</th>\n",
       "      <td>7677</td>\n",
       "      <td>7497.764648</td>\n",
       "    </tr>\n",
       "    <tr>\n",
       "      <th>625</th>\n",
       "      <td>1729</td>\n",
       "      <td>1483.050903</td>\n",
       "    </tr>\n",
       "    <tr>\n",
       "      <th>293</th>\n",
       "      <td>1160</td>\n",
       "      <td>1306.189575</td>\n",
       "    </tr>\n",
       "    <tr>\n",
       "      <th>370</th>\n",
       "      <td>1401</td>\n",
       "      <td>850.644287</td>\n",
       "    </tr>\n",
       "    <tr>\n",
       "      <th>130</th>\n",
       "      <td>4412</td>\n",
       "      <td>4581.657227</td>\n",
       "    </tr>\n",
       "    <tr>\n",
       "      <th>487</th>\n",
       "      <td>492</td>\n",
       "      <td>383.259308</td>\n",
       "    </tr>\n",
       "    <tr>\n",
       "      <th>538</th>\n",
       "      <td>1139</td>\n",
       "      <td>809.862732</td>\n",
       "    </tr>\n",
       "    <tr>\n",
       "      <th>338</th>\n",
       "      <td>422</td>\n",
       "      <td>371.928650</td>\n",
       "    </tr>\n",
       "  </tbody>\n",
       "</table>\n",
       "</div>"
      ],
      "text/plain": [
       "     Actual price  Predicted price\n",
       "668           533       919.538452\n",
       "712         10098      9255.534180\n",
       "646          7677      7497.764648\n",
       "625          1729      1483.050903\n",
       "293          1160      1306.189575\n",
       "370          1401       850.644287\n",
       "130          4412      4581.657227\n",
       "487           492       383.259308\n",
       "538          1139       809.862732\n",
       "338           422       371.928650"
      ]
     },
     "execution_count": 47,
     "metadata": {},
     "output_type": "execute_result"
    }
   ],
   "source": [
    "compare_df = pd.DataFrame({'Actual price': np.squeeze(y_test.values),\n",
    "                           'Predicted price' : np.squeeze(y_pred)})\n",
    "\n",
    "compare_df.sample(10)"
   ]
  },
  {
   "cell_type": "code",
   "execution_count": 48,
   "metadata": {},
   "outputs": [
    {
     "data": {
      "text/plain": [
       "0.9425075251864811"
      ]
     },
     "execution_count": 48,
     "metadata": {},
     "output_type": "execute_result"
    }
   ],
   "source": [
    "r2_score(y_test, y_pred)"
   ]
  },
  {
   "cell_type": "code",
   "execution_count": 49,
   "metadata": {},
   "outputs": [
    {
     "data": {
      "image/png": "[encoded data removed]",
      "text/plain": [
       "<Figure size 720x576 with 1 Axes>"
      ]
     },
     "metadata": {
      "needs_background": "light"
     },
     "output_type": "display_data"
    }
   ],
   "source": [
    "plt.figure(figsize=(10, 8))\n",
    "\n",
    "plt.scatter(y_pred, y_test.values, s=200)\n",
    "\n",
    "plt.xlabel('Actual price')\n",
    "plt.ylabel('Predicted price')\n",
    "\n",
    "plt.show()"
   ]
  }
 ],
 "metadata": {
  "kernelspec": {
   "display_name": "Python 3",
   "language": "python",
   "name": "python3"
  },
  "language_info": {
   "codemirror_mode": {
    "name": "ipython",
    "version": 3
   },
   "file_extension": ".py",
   "mimetype": "text/x-python",
   "name": "python",
   "nbconvert_exporter": "python",
   "pygments_lexer": "ipython3",
   "version": "3.7.6"
  }
 },
 "nbformat": 4,
 "nbformat_minor": 4
}
